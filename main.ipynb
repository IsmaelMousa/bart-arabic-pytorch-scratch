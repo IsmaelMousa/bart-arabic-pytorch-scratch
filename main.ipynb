{
 "cells": [
  {
   "cell_type": "markdown",
   "source": [
    "# BART Arabic From Scratch\n",
    "\n",
    "Implement the [BART: Denoising Sequence-to-Sequence Pre-training](https://arxiv.org/abs/1910.13461) paper from scratch using PyTorch for an abstractive summarization task in Arabic."
   ],
   "metadata": {
    "id": "shpDRLJtBmM6"
   },
   "id": "shpDRLJtBmM6"
  },
  {
   "cell_type": "markdown",
   "source": [
    "## Install & Import Dependencies\n",
    "Dependency version details are listed in the `requirements.txt` file."
   ],
   "metadata": {
    "id": "aKBt948JB4lS"
   },
   "id": "aKBt948JB4lS"
  },
  {
   "cell_type": "code",
   "execution_count": null,
   "id": "d43f8305-71ba-427a-88a8-19be792d607e",
   "metadata": {
    "id": "d43f8305-71ba-427a-88a8-19be792d607e"
   },
   "outputs": [],
   "source": [
    "!pip install -r requirements.txt"
   ]
  },
  {
   "cell_type": "code",
   "execution_count": null,
   "id": "ac7806a8-c541-45cc-866d-5a78787c6a82",
   "metadata": {
    "id": "ac7806a8-c541-45cc-866d-5a78787c6a82"
   },
   "outputs": [],
   "source": [
    "import os\n",
    "import json\n",
    "import math\n",
    "import time\n",
    "import warnings\n",
    "warnings.filterwarnings(\"ignore\")\n",
    "\n",
    "import pandas as pd\n",
    "import matplotlib.pyplot as plt\n",
    "import torch\n",
    "from torch import nn, Tensor\n",
    "from torch.optim import Adam\n",
    "from torch.utils.data import DataLoader\n",
    "from torch.nn.utils import clip_grad_norm_\n",
    "from torch.cuda.amp import GradScaler, autocast\n",
    "from datasets import Dataset\n",
    "from tokenizers import ByteLevelBPETokenizer, Tokenizer\n",
    "from tokenizers.processors import TemplateProcessing"
   ]
  },
  {
   "cell_type": "markdown",
   "source": [
    "## Download & Load the Datasets\n",
    "The dataset used is the [XL-Sum(Arabic Subset)](https://github.com/csebuetnlp/xl-sum?tab=readme-ov-file#:~:text=Arabic,Download) dataset. I chose this dataset because it's well-suited for our task. Additionally, it's written in pure Arabic, which makes it the best choice. The original source: [BBC Arabic](https://www.bbc.com/arabic).\n"
   ],
   "metadata": {
    "id": "lg8fCKq0CEjN"
   },
   "id": "lg8fCKq0CEjN"
  },
  {
   "cell_type": "code",
   "execution_count": null,
   "id": "3c204f66-d2a9-4bdb-b09a-83258eca701c",
   "metadata": {
    "id": "3c204f66-d2a9-4bdb-b09a-83258eca701c",
    "outputId": "61a2565d-7415-4a30-91b2-96ebe2522a96"
   },
   "outputs": [
    {
     "name": "stdout",
     "output_type": "stream",
     "text": [
      "Downloading...\n",
      "From (original): https://docs.google.com/uc?export=download&id=1lot6kJ6TPCHuBI6Ky_RQPdYpWaQCk-jl\n",
      "From (redirected): https://docs.google.com/uc?export=download&id=1lot6kJ6TPCHuBI6Ky_RQPdYpWaQCk-jl&confirm=t&uuid=881a1b05-ccb8-43b9-9a16-0da145ee300d\n",
      "To: /teamspace/studios/this_studio/arabic_XLSum_v2.0.tar.bz2\n",
      "100%|██████████████████████████████████████| 44.9M/44.9M [00:02<00:00, 20.4MB/s]\n",
      "./\n",
      "./arabic_test.jsonl\n",
      "./arabic_val.jsonl\n",
      "./arabic_train.jsonl\n",
      "arabic_test.jsonl  arabic_train.jsonl  arabic_val.jsonl\n"
     ]
    }
   ],
   "source": [
    "!gdown \"https://docs.google.com/uc?export=download&id=1lot6kJ6TPCHuBI6Ky_RQPdYpWaQCk-jl\"\n",
    "!mkdir -p data\n",
    "!tar -xvjf arabic_XLSum_v2.0.tar.bz2 -C data/\n",
    "!ls data/"
   ]
  },
  {
   "cell_type": "code",
   "execution_count": null,
   "id": "111347e7-1ff7-4cb4-8e11-9a080312fa04",
   "metadata": {
    "id": "111347e7-1ff7-4cb4-8e11-9a080312fa04"
   },
   "outputs": [],
   "source": [
    "data = \"data/\"\n",
    "\n",
    "train_file = os.path.join(data, \"arabic_train.jsonl\")\n",
    "validation_file = os.path.join(data, \"arabic_val.jsonl\")\n",
    "test_file = os.path.join(data, \"arabic_test.jsonl\")\n",
    "\n",
    "train_set = pd.read_json(train_file, lines=True)\n",
    "validation_set = pd.read_json(validation_file, lines=True)\n",
    "test_set = pd.read_json(test_file, lines=True)"
   ]
  },
  {
   "cell_type": "markdown",
   "source": [
    "## Exploratory Data Analysis (EDA)\n",
    "\n",
    "Analyze the data characteristics and features."
   ],
   "metadata": {
    "id": "mOfpilDeCWCt"
   },
   "id": "mOfpilDeCWCt"
  },
  {
   "cell_type": "code",
   "execution_count": null,
   "id": "4ab6c980-3df5-4dd1-b266-870924b32893",
   "metadata": {
    "id": "4ab6c980-3df5-4dd1-b266-870924b32893",
    "outputId": "cb30f4e7-4670-48ef-d27d-f1bf626e0acf"
   },
   "outputs": [
    {
     "data": {
      "text/plain": [
       "((37519, 5), (4689, 5), (4689, 5))"
      ]
     },
     "execution_count": 5,
     "metadata": {},
     "output_type": "execute_result"
    }
   ],
   "source": [
    "train_set.shape, validation_set.shape, test_set.shape"
   ]
  },
  {
   "cell_type": "code",
   "execution_count": null,
   "id": "cbd8cdaf-718d-4dbd-8731-06bb4e64d3f0",
   "metadata": {
    "id": "cbd8cdaf-718d-4dbd-8731-06bb4e64d3f0",
    "outputId": "c25263bb-304d-4e72-bf85-c3d3d9350d04"
   },
   "outputs": [
    {
     "data": {
      "text/html": [
       "<div>\n",
       "<style scoped>\n",
       "    .dataframe tbody tr th:only-of-type {\n",
       "        vertical-align: middle;\n",
       "    }\n",
       "\n",
       "    .dataframe tbody tr th {\n",
       "        vertical-align: top;\n",
       "    }\n",
       "\n",
       "    .dataframe thead th {\n",
       "        text-align: right;\n",
       "    }\n",
       "</style>\n",
       "<table border=\"1\" class=\"dataframe\">\n",
       "  <thead>\n",
       "    <tr style=\"text-align: right;\">\n",
       "      <th></th>\n",
       "      <th>id</th>\n",
       "      <th>url</th>\n",
       "      <th>title</th>\n",
       "      <th>summary</th>\n",
       "      <th>text</th>\n",
       "    </tr>\n",
       "  </thead>\n",
       "  <tbody>\n",
       "    <tr>\n",
       "      <th>0</th>\n",
       "      <td>140323_russian_troops_crimea_naval_base</td>\n",
       "      <td>https://www.bbc.com/arabic/worldnews/2014/03/1...</td>\n",
       "      <td>القوات الأوكرانية تبدأ الانسحاب من القرم</td>\n",
       "      <td>بدأت القوات الأوكرانية الانسحاب من شبه جزيرة ا...</td>\n",
       "      <td>وكان الرئيس الأوكراني المؤقت، الكسندر تورتشينو...</td>\n",
       "    </tr>\n",
       "    <tr>\n",
       "      <th>1</th>\n",
       "      <td>130528_egypt_nile_dam</td>\n",
       "      <td>https://www.bbc.com/arabic/middleeast/2013/05/...</td>\n",
       "      <td>هل يفرض سد النهضة الإثيوبي واقعا جديدا على مصر؟</td>\n",
       "      <td>\"هل سيتم تغيير العبارة الشهيرة للمؤرخ اليوناني...</td>\n",
       "      <td>بحلول عام 2050 ستحتاج مصر إلى 21 مليار متر مكع...</td>\n",
       "    </tr>\n",
       "    <tr>\n",
       "      <th>2</th>\n",
       "      <td>world-47242349</td>\n",
       "      <td>https://www.bbc.com/arabic/world-47242349</td>\n",
       "      <td>تعرف على منطقة كشمير التي تسببت بحربين بين اله...</td>\n",
       "      <td>قالت الشرطة في القطاع الهندي من إقليم كشمير إن...</td>\n",
       "      <td>وذكرت وكالة الأنباء المحلية (جي.إن.إس) أن جماع...</td>\n",
       "    </tr>\n",
       "    <tr>\n",
       "      <th>3</th>\n",
       "      <td>vert-cul-55078328</td>\n",
       "      <td>https://www.bbc.com/arabic/vert-cul-55078328</td>\n",
       "      <td>ماذا تعرف عن العالم الخفي للمعابد اليابانية ال...</td>\n",
       "      <td>في عام 816، تجول راهب يدعى كوكاي، في المنحدرات...</td>\n",
       "      <td>ووقع اختياره على واد عمقه 800 متر محاط بثماني ...</td>\n",
       "    </tr>\n",
       "    <tr>\n",
       "      <th>4</th>\n",
       "      <td>141023_yemen_hodeida</td>\n",
       "      <td>https://www.bbc.com/arabic/middleeast/2014/10/...</td>\n",
       "      <td>اشتباك بين الحوثيين و\"الحراك التهامي\" في الحدي...</td>\n",
       "      <td>أكد مصدر في \"الحراك التهامي\" لأبناء محافظة الح...</td>\n",
       "      <td>مسلح حوثي في إب وقال المصدر إن المسلحين الحوثي...</td>\n",
       "    </tr>\n",
       "  </tbody>\n",
       "</table>\n",
       "</div>"
      ],
      "text/plain": [
       "                                        id  \\\n",
       "0  140323_russian_troops_crimea_naval_base   \n",
       "1                    130528_egypt_nile_dam   \n",
       "2                           world-47242349   \n",
       "3                        vert-cul-55078328   \n",
       "4                     141023_yemen_hodeida   \n",
       "\n",
       "                                                 url  \\\n",
       "0  https://www.bbc.com/arabic/worldnews/2014/03/1...   \n",
       "1  https://www.bbc.com/arabic/middleeast/2013/05/...   \n",
       "2          https://www.bbc.com/arabic/world-47242349   \n",
       "3       https://www.bbc.com/arabic/vert-cul-55078328   \n",
       "4  https://www.bbc.com/arabic/middleeast/2014/10/...   \n",
       "\n",
       "                                               title  \\\n",
       "0           القوات الأوكرانية تبدأ الانسحاب من القرم   \n",
       "1    هل يفرض سد النهضة الإثيوبي واقعا جديدا على مصر؟   \n",
       "2  تعرف على منطقة كشمير التي تسببت بحربين بين اله...   \n",
       "3  ماذا تعرف عن العالم الخفي للمعابد اليابانية ال...   \n",
       "4  اشتباك بين الحوثيين و\"الحراك التهامي\" في الحدي...   \n",
       "\n",
       "                                             summary  \\\n",
       "0  بدأت القوات الأوكرانية الانسحاب من شبه جزيرة ا...   \n",
       "1  \"هل سيتم تغيير العبارة الشهيرة للمؤرخ اليوناني...   \n",
       "2  قالت الشرطة في القطاع الهندي من إقليم كشمير إن...   \n",
       "3  في عام 816، تجول راهب يدعى كوكاي، في المنحدرات...   \n",
       "4  أكد مصدر في \"الحراك التهامي\" لأبناء محافظة الح...   \n",
       "\n",
       "                                                text  \n",
       "0  وكان الرئيس الأوكراني المؤقت، الكسندر تورتشينو...  \n",
       "1  بحلول عام 2050 ستحتاج مصر إلى 21 مليار متر مكع...  \n",
       "2  وذكرت وكالة الأنباء المحلية (جي.إن.إس) أن جماع...  \n",
       "3  ووقع اختياره على واد عمقه 800 متر محاط بثماني ...  \n",
       "4  مسلح حوثي في إب وقال المصدر إن المسلحين الحوثي...  "
      ]
     },
     "execution_count": 6,
     "metadata": {},
     "output_type": "execute_result"
    }
   ],
   "source": [
    "train_set.head()"
   ]
  },
  {
   "cell_type": "code",
   "execution_count": null,
   "id": "eba6d3b3-4d17-457c-ae36-e431d4178e04",
   "metadata": {
    "id": "eba6d3b3-4d17-457c-ae36-e431d4178e04",
    "outputId": "87426de4-6cf1-44a1-bcd2-95f50ed156e4"
   },
   "outputs": [
    {
     "data": {
      "text/html": [
       "<div>\n",
       "<style scoped>\n",
       "    .dataframe tbody tr th:only-of-type {\n",
       "        vertical-align: middle;\n",
       "    }\n",
       "\n",
       "    .dataframe tbody tr th {\n",
       "        vertical-align: top;\n",
       "    }\n",
       "\n",
       "    .dataframe thead th {\n",
       "        text-align: right;\n",
       "    }\n",
       "</style>\n",
       "<table border=\"1\" class=\"dataframe\">\n",
       "  <thead>\n",
       "    <tr style=\"text-align: right;\">\n",
       "      <th></th>\n",
       "      <th>id</th>\n",
       "      <th>url</th>\n",
       "      <th>title</th>\n",
       "      <th>summary</th>\n",
       "      <th>text</th>\n",
       "    </tr>\n",
       "  </thead>\n",
       "  <tbody>\n",
       "    <tr>\n",
       "      <th>0</th>\n",
       "      <td>140921_yemen_pm_resign</td>\n",
       "      <td>https://www.bbc.com/arabic/middleeast/2014/09/...</td>\n",
       "      <td>اتفاق لتشكيل حكومة جديدة بين الحوثيين وعدة احز...</td>\n",
       "      <td>وقع الحوثيون اتفاقا مع عدد من الاحزاب اليمنية ...</td>\n",
       "      <td>انضم بعض عناصر القوات المسلحة الى الحوثيين في ...</td>\n",
       "    </tr>\n",
       "    <tr>\n",
       "      <th>1</th>\n",
       "      <td>inthepress-56197077</td>\n",
       "      <td>https://www.bbc.com/arabic/inthepress-56197077</td>\n",
       "      <td>مظاهرات تونس: إلى أي مدى سيصل الصراع بين أطراف...</td>\n",
       "      <td>ناقش معلقون في صحف عربية تطور الأزمة السياسية ...</td>\n",
       "      <td>الرئيس التونسي قيس سعيد ورئيس الحكومة هشام الم...</td>\n",
       "    </tr>\n",
       "    <tr>\n",
       "      <th>2</th>\n",
       "      <td>151114_gatwick_airport_frenchman_charged</td>\n",
       "      <td>https://www.bbc.com/arabic/worldnews/2015/11/1...</td>\n",
       "      <td>اتهام رجل بحيازة أسلحة بعد إعلان حالة تأهب في ...</td>\n",
       "      <td>اتهمت الشرطة البريطانية رسميا رجلا فرنسيا بحيا...</td>\n",
       "      <td>المسافرون انتظروا ست ساعات على أرض مطار غاتويك...</td>\n",
       "    </tr>\n",
       "    <tr>\n",
       "      <th>3</th>\n",
       "      <td>media-48880286</td>\n",
       "      <td>https://www.bbc.com/arabic/media-48880286</td>\n",
       "      <td>عالم سري للسوريّات على فيسبوك محظور على الرجال...</td>\n",
       "      <td>تطلب شابة على إحدى صفحات فيسبوك المغلقة نصيحة ...</td>\n",
       "      <td>وانهالت تعليقات النساء على هذه المداخلة بين مؤ...</td>\n",
       "    </tr>\n",
       "    <tr>\n",
       "      <th>4</th>\n",
       "      <td>130311_us_nkorea</td>\n",
       "      <td>https://www.bbc.com/arabic/middleeast/2013/03/...</td>\n",
       "      <td>الولايات المتحدة توسع العقوبات ضد كوريا الشمالية</td>\n",
       "      <td>فرضت الولايات المتحدة عقوبات على بنك العملة ال...</td>\n",
       "      <td>قطعت كوريا الشمالية الخط الهاتفي الساخن بين ال...</td>\n",
       "    </tr>\n",
       "  </tbody>\n",
       "</table>\n",
       "</div>"
      ],
      "text/plain": [
       "                                         id  \\\n",
       "0                    140921_yemen_pm_resign   \n",
       "1                       inthepress-56197077   \n",
       "2  151114_gatwick_airport_frenchman_charged   \n",
       "3                            media-48880286   \n",
       "4                          130311_us_nkorea   \n",
       "\n",
       "                                                 url  \\\n",
       "0  https://www.bbc.com/arabic/middleeast/2014/09/...   \n",
       "1     https://www.bbc.com/arabic/inthepress-56197077   \n",
       "2  https://www.bbc.com/arabic/worldnews/2015/11/1...   \n",
       "3          https://www.bbc.com/arabic/media-48880286   \n",
       "4  https://www.bbc.com/arabic/middleeast/2013/03/...   \n",
       "\n",
       "                                               title  \\\n",
       "0  اتفاق لتشكيل حكومة جديدة بين الحوثيين وعدة احز...   \n",
       "1  مظاهرات تونس: إلى أي مدى سيصل الصراع بين أطراف...   \n",
       "2  اتهام رجل بحيازة أسلحة بعد إعلان حالة تأهب في ...   \n",
       "3  عالم سري للسوريّات على فيسبوك محظور على الرجال...   \n",
       "4   الولايات المتحدة توسع العقوبات ضد كوريا الشمالية   \n",
       "\n",
       "                                             summary  \\\n",
       "0  وقع الحوثيون اتفاقا مع عدد من الاحزاب اليمنية ...   \n",
       "1  ناقش معلقون في صحف عربية تطور الأزمة السياسية ...   \n",
       "2  اتهمت الشرطة البريطانية رسميا رجلا فرنسيا بحيا...   \n",
       "3  تطلب شابة على إحدى صفحات فيسبوك المغلقة نصيحة ...   \n",
       "4  فرضت الولايات المتحدة عقوبات على بنك العملة ال...   \n",
       "\n",
       "                                                text  \n",
       "0  انضم بعض عناصر القوات المسلحة الى الحوثيين في ...  \n",
       "1  الرئيس التونسي قيس سعيد ورئيس الحكومة هشام الم...  \n",
       "2  المسافرون انتظروا ست ساعات على أرض مطار غاتويك...  \n",
       "3  وانهالت تعليقات النساء على هذه المداخلة بين مؤ...  \n",
       "4  قطعت كوريا الشمالية الخط الهاتفي الساخن بين ال...  "
      ]
     },
     "execution_count": 7,
     "metadata": {},
     "output_type": "execute_result"
    }
   ],
   "source": [
    "validation_set.head()"
   ]
  },
  {
   "cell_type": "code",
   "execution_count": null,
   "id": "36131f5d-8c0b-4f3b-8a93-6c674e18bde9",
   "metadata": {
    "id": "36131f5d-8c0b-4f3b-8a93-6c674e18bde9",
    "outputId": "cc290176-d969-44c5-c7e1-a101fe01e4c4"
   },
   "outputs": [
    {
     "data": {
      "text/html": [
       "<div>\n",
       "<style scoped>\n",
       "    .dataframe tbody tr th:only-of-type {\n",
       "        vertical-align: middle;\n",
       "    }\n",
       "\n",
       "    .dataframe tbody tr th {\n",
       "        vertical-align: top;\n",
       "    }\n",
       "\n",
       "    .dataframe thead th {\n",
       "        text-align: right;\n",
       "    }\n",
       "</style>\n",
       "<table border=\"1\" class=\"dataframe\">\n",
       "  <thead>\n",
       "    <tr style=\"text-align: right;\">\n",
       "      <th></th>\n",
       "      <th>id</th>\n",
       "      <th>url</th>\n",
       "      <th>title</th>\n",
       "      <th>summary</th>\n",
       "      <th>text</th>\n",
       "    </tr>\n",
       "  </thead>\n",
       "  <tbody>\n",
       "    <tr>\n",
       "      <th>0</th>\n",
       "      <td>130806_nidhal_hassan_trial</td>\n",
       "      <td>https://www.bbc.com/arabic/worldnews/2013/08/1...</td>\n",
       "      <td>نضال حسن يمثل أمام محكمة عسكرية أمريكية</td>\n",
       "      <td>تنظر محكمة عسكرية أمريكية في وقت لاحق من اليوم...</td>\n",
       "      <td>نضال حسن واعترف نضال حسن، الذي يدافع عن نفسه، ...</td>\n",
       "    </tr>\n",
       "    <tr>\n",
       "      <th>1</th>\n",
       "      <td>160129_germany_asylum_seekers</td>\n",
       "      <td>https://www.bbc.com/arabic/worldnews/2016/01/1...</td>\n",
       "      <td>ألمانيا تسعى للحد من الهجرة بإعلان الجزائر وتو...</td>\n",
       "      <td>كشفت ألمانيا النقاب عن خطط لإضافة الجزائر والم...</td>\n",
       "      <td>ألمانيا تواجه مصاعب في التعامل مع الأعداد المت...</td>\n",
       "    </tr>\n",
       "    <tr>\n",
       "      <th>2</th>\n",
       "      <td>130729_syria_homs_area_retaken</td>\n",
       "      <td>https://www.bbc.com/arabic/middleeast/2013/07/...</td>\n",
       "      <td>الخالدية : التليفزيون السوري يعلن استعادة الجي...</td>\n",
       "      <td>قال التليفزيون السوري إن قوات الحكومة استعادت ...</td>\n",
       "      <td>وأكدت وسائل الإعلام السورية أن الجيش \"استعاد ا...</td>\n",
       "    </tr>\n",
       "    <tr>\n",
       "      <th>3</th>\n",
       "      <td>140517_arsenal_fa_cup_winners</td>\n",
       "      <td>https://www.bbc.com/arabic/sports/2014/05/1405...</td>\n",
       "      <td>الارسنال يتوج بلقب كأس انكلترا</td>\n",
       "      <td>توج فريق الارسنال ببطولة كأس انجلترا لكرة القد...</td>\n",
       "      <td>وفاجأ هال سيتي الحضور بمباغتة الارسنال بهدفين ...</td>\n",
       "    </tr>\n",
       "    <tr>\n",
       "      <th>4</th>\n",
       "      <td>140722_iraq_minorities</td>\n",
       "      <td>https://www.bbc.com/arabic/middleeast/2014/07/...</td>\n",
       "      <td>العراق: الأقليات في سهل نينوى</td>\n",
       "      <td>يوضع الصراع في العراق غالبا في إطار صراع بين ا...</td>\n",
       "      <td>معبد يزيدي في سهول محافظة نينوى يعيش المسيحيون...</td>\n",
       "    </tr>\n",
       "  </tbody>\n",
       "</table>\n",
       "</div>"
      ],
      "text/plain": [
       "                               id  \\\n",
       "0      130806_nidhal_hassan_trial   \n",
       "1   160129_germany_asylum_seekers   \n",
       "2  130729_syria_homs_area_retaken   \n",
       "3   140517_arsenal_fa_cup_winners   \n",
       "4          140722_iraq_minorities   \n",
       "\n",
       "                                                 url  \\\n",
       "0  https://www.bbc.com/arabic/worldnews/2013/08/1...   \n",
       "1  https://www.bbc.com/arabic/worldnews/2016/01/1...   \n",
       "2  https://www.bbc.com/arabic/middleeast/2013/07/...   \n",
       "3  https://www.bbc.com/arabic/sports/2014/05/1405...   \n",
       "4  https://www.bbc.com/arabic/middleeast/2014/07/...   \n",
       "\n",
       "                                               title  \\\n",
       "0            نضال حسن يمثل أمام محكمة عسكرية أمريكية   \n",
       "1  ألمانيا تسعى للحد من الهجرة بإعلان الجزائر وتو...   \n",
       "2  الخالدية : التليفزيون السوري يعلن استعادة الجي...   \n",
       "3                     الارسنال يتوج بلقب كأس انكلترا   \n",
       "4                      العراق: الأقليات في سهل نينوى   \n",
       "\n",
       "                                             summary  \\\n",
       "0  تنظر محكمة عسكرية أمريكية في وقت لاحق من اليوم...   \n",
       "1  كشفت ألمانيا النقاب عن خطط لإضافة الجزائر والم...   \n",
       "2  قال التليفزيون السوري إن قوات الحكومة استعادت ...   \n",
       "3  توج فريق الارسنال ببطولة كأس انجلترا لكرة القد...   \n",
       "4  يوضع الصراع في العراق غالبا في إطار صراع بين ا...   \n",
       "\n",
       "                                                text  \n",
       "0  نضال حسن واعترف نضال حسن، الذي يدافع عن نفسه، ...  \n",
       "1  ألمانيا تواجه مصاعب في التعامل مع الأعداد المت...  \n",
       "2  وأكدت وسائل الإعلام السورية أن الجيش \"استعاد ا...  \n",
       "3  وفاجأ هال سيتي الحضور بمباغتة الارسنال بهدفين ...  \n",
       "4  معبد يزيدي في سهول محافظة نينوى يعيش المسيحيون...  "
      ]
     },
     "execution_count": 8,
     "metadata": {},
     "output_type": "execute_result"
    }
   ],
   "source": [
    "test_set.head()"
   ]
  },
  {
   "cell_type": "markdown",
   "source": [
    "### Visualize sequence length distribution to decide the maximum length for source and target sequences"
   ],
   "metadata": {
    "id": "_Cav7x0CC2Zh"
   },
   "id": "_Cav7x0CC2Zh"
  },
  {
   "cell_type": "code",
   "execution_count": null,
   "id": "4da5075a-3d7e-4702-b57b-ce1b22051ba4",
   "metadata": {
    "id": "4da5075a-3d7e-4702-b57b-ce1b22051ba4",
    "outputId": "b6e0a071-722e-4245-de4b-95ec72adc643"
   },
   "outputs": [
    {
     "data": {
      "image/png": "[encoded data removed]",
      "text/plain": [
       "<Figure size 1200x600 with 2 Axes>"
      ]
     },
     "metadata": {},
     "output_type": "display_data"
    }
   ],
   "source": [
    "train_set[\"text_length\"] = train_set[\"text\"].apply(lambda x: len(x.split()))\n",
    "train_set[\"summary_length\"] = train_set[\"summary\"].apply(lambda x: len(x.split()))\n",
    "\n",
    "text_length_min, text_length_max = train_set[\"text_length\"].min(), train_set[\"text_length\"].max()\n",
    "summary_length_min, summary_length_max = train_set[\"summary_length\"].min(), train_set[\"summary_length\"].max()\n",
    "\n",
    "text_ticks = range(0, text_length_max + 1, 750)\n",
    "summary_ticks = range(0, summary_length_max + 1, 10)\n",
    "\n",
    "plt.figure(figsize=(12, 6))\n",
    "\n",
    "plt.subplot(1, 2, 1)\n",
    "plt.hist(train_set[\"text_length\"], bins=30, color=\"orange\", edgecolor=\"black\", range=(text_length_min, text_length_max))\n",
    "plt.title(\"Text Word Counts\")\n",
    "plt.xlabel(\"Words per Sequence\")\n",
    "plt.ylabel(\"Number of Sequences\")\n",
    "plt.xticks(ticks=text_ticks, rotation=45)\n",
    "\n",
    "plt.subplot(1, 2, 2)\n",
    "plt.hist(train_set[\"summary_length\"], bins=30, color=\"blue\", edgecolor=\"black\", range=(summary_length_min, summary_length_max))\n",
    "plt.title(\"Summary Word Counts\")\n",
    "plt.xlabel(\"Words per Sequence\")\n",
    "plt.ylabel(\"Number of Sequences\")\n",
    "plt.xticks(ticks=summary_ticks, rotation=45)\n",
    "\n",
    "plt.tight_layout()\n",
    "plt.show()"
   ]
  },
  {
   "cell_type": "markdown",
   "source": [
    "## Clean the Datasets\n",
    "Remove unnecessary features and clean the datasets of duplicates and non-representative samples."
   ],
   "metadata": {
    "id": "xVwzWZ0lCg4i"
   },
   "id": "xVwzWZ0lCg4i"
  },
  {
   "cell_type": "code",
   "execution_count": null,
   "id": "e471ca56-34b3-429b-a5c5-06858eb7edf9",
   "metadata": {
    "id": "e471ca56-34b3-429b-a5c5-06858eb7edf9",
    "outputId": "7b78ed82-b7f1-4a00-d111-07d98d918ca3"
   },
   "outputs": [
    {
     "data": {
      "text/plain": [
       "((37519, 4), (4689, 2), (4689, 2))"
      ]
     },
     "execution_count": 10,
     "metadata": {},
     "output_type": "execute_result"
    }
   ],
   "source": [
    "columns = [\"id\", \"url\", \"title\"]\n",
    "\n",
    "train_set.drop(columns=columns, inplace=True)\n",
    "validation_set.drop(columns=columns, inplace=True)\n",
    "test_set.drop(columns=columns, inplace=True)\n",
    "\n",
    "train_set.shape, validation_set.shape, test_set.shape"
   ]
  },
  {
   "cell_type": "code",
   "execution_count": null,
   "id": "f5aac9a1-93a0-4541-9d30-5d6e21fc8250",
   "metadata": {
    "id": "f5aac9a1-93a0-4541-9d30-5d6e21fc8250",
    "outputId": "a6a2ee65-f1a0-46e5-b49d-caf536b78642"
   },
   "outputs": [
    {
     "data": {
      "text/plain": [
       "((37425, 4), (4689, 2), (4689, 2))"
      ]
     },
     "execution_count": 11,
     "metadata": {},
     "output_type": "execute_result"
    }
   ],
   "source": [
    "train_set.drop_duplicates(subset=[\"text\"], inplace=True)\n",
    "validation_set.drop_duplicates(subset=[\"text\"], inplace=True)\n",
    "test_set.drop_duplicates(subset=[\"text\"], inplace=True)\n",
    "\n",
    "train_set.shape, validation_set.shape, test_set.shape"
   ]
  },
  {
   "cell_type": "code",
   "execution_count": null,
   "id": "748f74ee-6097-42b6-9104-8ba09cf96556",
   "metadata": {
    "id": "748f74ee-6097-42b6-9104-8ba09cf96556",
    "outputId": "3781ecc2-0bb8-42b2-e2d5-5eb49a445050"
   },
   "outputs": [
    {
     "data": {
      "text/html": [
       "<div>\n",
       "<style scoped>\n",
       "    .dataframe tbody tr th:only-of-type {\n",
       "        vertical-align: middle;\n",
       "    }\n",
       "\n",
       "    .dataframe tbody tr th {\n",
       "        vertical-align: top;\n",
       "    }\n",
       "\n",
       "    .dataframe thead th {\n",
       "        text-align: right;\n",
       "    }\n",
       "</style>\n",
       "<table border=\"1\" class=\"dataframe\">\n",
       "  <thead>\n",
       "    <tr style=\"text-align: right;\">\n",
       "      <th></th>\n",
       "      <th>summary</th>\n",
       "      <th>text</th>\n",
       "      <th>text_length</th>\n",
       "      <th>summary_length</th>\n",
       "    </tr>\n",
       "  </thead>\n",
       "  <tbody>\n",
       "    <tr>\n",
       "      <th>0</th>\n",
       "      <td>بدأت القوات الأوكرانية الانسحاب من شبه جزيرة ا...</td>\n",
       "      <td>وكان الرئيس الأوكراني المؤقت، الكسندر تورتشينو...</td>\n",
       "      <td>525</td>\n",
       "      <td>8</td>\n",
       "    </tr>\n",
       "    <tr>\n",
       "      <th>1</th>\n",
       "      <td>\"هل سيتم تغيير العبارة الشهيرة للمؤرخ اليوناني...</td>\n",
       "      <td>بحلول عام 2050 ستحتاج مصر إلى 21 مليار متر مكع...</td>\n",
       "      <td>462</td>\n",
       "      <td>40</td>\n",
       "    </tr>\n",
       "    <tr>\n",
       "      <th>2</th>\n",
       "      <td>قالت الشرطة في القطاع الهندي من إقليم كشمير إن...</td>\n",
       "      <td>وذكرت وكالة الأنباء المحلية (جي.إن.إس) أن جماع...</td>\n",
       "      <td>106</td>\n",
       "      <td>32</td>\n",
       "    </tr>\n",
       "    <tr>\n",
       "      <th>3</th>\n",
       "      <td>في عام 816، تجول راهب يدعى كوكاي، في المنحدرات...</td>\n",
       "      <td>ووقع اختياره على واد عمقه 800 متر محاط بثماني ...</td>\n",
       "      <td>1343</td>\n",
       "      <td>32</td>\n",
       "    </tr>\n",
       "    <tr>\n",
       "      <th>4</th>\n",
       "      <td>أكد مصدر في \"الحراك التهامي\" لأبناء محافظة الح...</td>\n",
       "      <td>مسلح حوثي في إب وقال المصدر إن المسلحين الحوثي...</td>\n",
       "      <td>185</td>\n",
       "      <td>55</td>\n",
       "    </tr>\n",
       "  </tbody>\n",
       "</table>\n",
       "</div>"
      ],
      "text/plain": [
       "                                             summary  \\\n",
       "0  بدأت القوات الأوكرانية الانسحاب من شبه جزيرة ا...   \n",
       "1  \"هل سيتم تغيير العبارة الشهيرة للمؤرخ اليوناني...   \n",
       "2  قالت الشرطة في القطاع الهندي من إقليم كشمير إن...   \n",
       "3  في عام 816، تجول راهب يدعى كوكاي، في المنحدرات...   \n",
       "4  أكد مصدر في \"الحراك التهامي\" لأبناء محافظة الح...   \n",
       "\n",
       "                                                text  text_length  \\\n",
       "0  وكان الرئيس الأوكراني المؤقت، الكسندر تورتشينو...          525   \n",
       "1  بحلول عام 2050 ستحتاج مصر إلى 21 مليار متر مكع...          462   \n",
       "2  وذكرت وكالة الأنباء المحلية (جي.إن.إس) أن جماع...          106   \n",
       "3  ووقع اختياره على واد عمقه 800 متر محاط بثماني ...         1343   \n",
       "4  مسلح حوثي في إب وقال المصدر إن المسلحين الحوثي...          185   \n",
       "\n",
       "   summary_length  \n",
       "0               8  \n",
       "1              40  \n",
       "2              32  \n",
       "3              32  \n",
       "4              55  "
      ]
     },
     "execution_count": 12,
     "metadata": {},
     "output_type": "execute_result"
    }
   ],
   "source": [
    "train_set.head()"
   ]
  },
  {
   "cell_type": "code",
   "execution_count": null,
   "id": "a2b63ab4-485d-4147-9ecf-484bfdaf7adb",
   "metadata": {
    "id": "a2b63ab4-485d-4147-9ecf-484bfdaf7adb",
    "outputId": "44a5ee0e-3b0d-4e6c-9c33-0a6c0cf2100b"
   },
   "outputs": [
    {
     "data": {
      "text/html": [
       "<div>\n",
       "<style scoped>\n",
       "    .dataframe tbody tr th:only-of-type {\n",
       "        vertical-align: middle;\n",
       "    }\n",
       "\n",
       "    .dataframe tbody tr th {\n",
       "        vertical-align: top;\n",
       "    }\n",
       "\n",
       "    .dataframe thead th {\n",
       "        text-align: right;\n",
       "    }\n",
       "</style>\n",
       "<table border=\"1\" class=\"dataframe\">\n",
       "  <thead>\n",
       "    <tr style=\"text-align: right;\">\n",
       "      <th></th>\n",
       "      <th>summary</th>\n",
       "      <th>text</th>\n",
       "      <th>text_length</th>\n",
       "      <th>summary_length</th>\n",
       "    </tr>\n",
       "  </thead>\n",
       "  <tbody>\n",
       "    <tr>\n",
       "      <th>37514</th>\n",
       "      <td>*هذا الفيديو بدون تعليق*</td>\n",
       "      <td>يثور بركان بولسكي تولباشيك شرقي روسيا منذ نوفم...</td>\n",
       "      <td>47</td>\n",
       "      <td>4</td>\n",
       "    </tr>\n",
       "    <tr>\n",
       "      <th>37515</th>\n",
       "      <td>بي بي سي ترند تقرير مي نعمان</td>\n",
       "      <td>بينما احتدمت أزمة احتجاز الرهائن على يد لاجئ إ...</td>\n",
       "      <td>302</td>\n",
       "      <td>7</td>\n",
       "    </tr>\n",
       "    <tr>\n",
       "      <th>37516</th>\n",
       "      <td>تداعيات متواصلة</td>\n",
       "      <td>رمضان آخر يستقبله المسلمون في ظل كورونا للعام ...</td>\n",
       "      <td>712</td>\n",
       "      <td>2</td>\n",
       "    </tr>\n",
       "    <tr>\n",
       "      <th>37517</th>\n",
       "      <td>حملة شامتة</td>\n",
       "      <td>بعض الأصوات المؤيدة للنظم العربية استغلت اقتحا...</td>\n",
       "      <td>736</td>\n",
       "      <td>2</td>\n",
       "    </tr>\n",
       "    <tr>\n",
       "      <th>37518</th>\n",
       "      <td>*هذا الفيديو بدون تعليق*</td>\n",
       "      <td>تزامنا مع الذكرى التسعين لاكتشاف مقبرة توت عنخ...</td>\n",
       "      <td>65</td>\n",
       "      <td>4</td>\n",
       "    </tr>\n",
       "  </tbody>\n",
       "</table>\n",
       "</div>"
      ],
      "text/plain": [
       "                            summary  \\\n",
       "37514      *هذا الفيديو بدون تعليق*   \n",
       "37515  بي بي سي ترند تقرير مي نعمان   \n",
       "37516               تداعيات متواصلة   \n",
       "37517                    حملة شامتة   \n",
       "37518      *هذا الفيديو بدون تعليق*   \n",
       "\n",
       "                                                    text  text_length  \\\n",
       "37514  يثور بركان بولسكي تولباشيك شرقي روسيا منذ نوفم...           47   \n",
       "37515  بينما احتدمت أزمة احتجاز الرهائن على يد لاجئ إ...          302   \n",
       "37516  رمضان آخر يستقبله المسلمون في ظل كورونا للعام ...          712   \n",
       "37517  بعض الأصوات المؤيدة للنظم العربية استغلت اقتحا...          736   \n",
       "37518  تزامنا مع الذكرى التسعين لاكتشاف مقبرة توت عنخ...           65   \n",
       "\n",
       "       summary_length  \n",
       "37514               4  \n",
       "37515               7  \n",
       "37516               2  \n",
       "37517               2  \n",
       "37518               4  "
      ]
     },
     "execution_count": 13,
     "metadata": {},
     "output_type": "execute_result"
    }
   ],
   "source": [
    "train_set.tail()"
   ]
  },
  {
   "cell_type": "code",
   "execution_count": null,
   "id": "08735442-71e5-44e2-b42b-b4307f5a9716",
   "metadata": {
    "id": "08735442-71e5-44e2-b42b-b4307f5a9716",
    "outputId": "a0808f3e-f05c-4310-f78d-39fef82b97af"
   },
   "outputs": [
    {
     "data": {
      "text/plain": [
       "summary                   text                                                                                                                                                                                                                                                                                                                                                                                   text_length  summary_length\n",
       "*هذا الفيديو بدون تعليق*  اجتاح إعصاران منطقة غربي اليابان لكن بدون احداث اصابات بشرية او مادية. واظهرت لقطات بثها تلفزيون فوجي الياباني إعصاراً فوق مياه المحيط في منطقة واكاياما. وحسب خبراء الارصاد الجوية فان الإعصار استمر حوالي عشر دقائق وتلاشى قبل ان يصل الى البر. اما الاعصار الثاني فقد تشكل في واكاياما وامتد الى منطقة إشيكاوا إثر عاصفة محملة بالبرد. وتعتبر الاعاصير ظاهرة نادرة في اليابان.      62           4                 1\n",
       "                          تزامنا مع الذكرى التسعين لاكتشاف مقبرة توت عنخ أمون تسلمت مصر نسخة طبق الأصل من مقبرته. النسخة صممتها ورشة فكتوم الفنية بمدريد، وسيتم حفظها بشكل مؤقت فى القاهرة، لحين انعقاد مؤتمر فريق العمل الخاص بالاتحاد الأوروبى عن السياحة والاستثمار فى 13 و14 نوفمبر. ومن المقرر أن يتم نقلها إلى وادى الملوك أو إلى أحد المتاحف الأثرية الجديدة، حيث يبدأ عرضها على الجمهور قبل إبريل 2013.  65           4                 1\n",
       "                          يثور بركان بولسكي تولباشيك شرقي روسيا منذ نوفمبر/ تشرين ثاني الماضي. وقد طالب المسؤولون سكان المنطقة بتوخي الحذر. ويقذف البركان بأنهار من الحمم البركانية عبر الثلوج في منظر خلاب. ومن غير المعروف إلى متى ستستمر ثور البركان الذي يعتقد أنه ظل خاملا على مذى الثلاثين عاما الماضية.                                                                                                   47           4                 1\n",
       "Name: count, dtype: int64"
      ]
     },
     "execution_count": 14,
     "metadata": {},
     "output_type": "execute_result"
    }
   ],
   "source": [
    "train_set.loc[train_set[\"summary\"].str.contains(\"هذا الفيديو بدون تعليق\", na=False)].value_counts()"
   ]
  },
  {
   "cell_type": "code",
   "execution_count": null,
   "id": "44ee3bee-d427-487b-97b4-e128e8a17abb",
   "metadata": {
    "id": "44ee3bee-d427-487b-97b4-e128e8a17abb",
    "outputId": "a48b0af0-43b5-4102-b055-cc93646f70b2"
   },
   "outputs": [
    {
     "data": {
      "text/plain": [
       "((37422, 4), (4689, 2), (4689, 2))"
      ]
     },
     "execution_count": 15,
     "metadata": {},
     "output_type": "execute_result"
    }
   ],
   "source": [
    "train_set.drop(train_set[train_set[\"summary\"].str.contains(\"هذا الفيديو بدون تعليق\", na=False)].index, inplace=True)\n",
    "validation_set.drop(validation_set[validation_set[\"summary\"].str.contains(\"هذا الفيديو بدون تعليق\", na=False)].index, inplace=True)\n",
    "test_set.drop(test_set[test_set[\"summary\"].str.contains(\"هذا الفيديو بدون تعليق\", na=False)].index, inplace=True)\n",
    "\n",
    "train_set.shape, validation_set.shape, test_set.shape"
   ]
  },
  {
   "cell_type": "code",
   "execution_count": null,
   "id": "4958f56c-839e-4ae2-a87f-0d6a34b8ed8b",
   "metadata": {
    "id": "4958f56c-839e-4ae2-a87f-0d6a34b8ed8b",
    "outputId": "f1350325-ec60-491b-cc65-3e60fa07351d"
   },
   "outputs": [
    {
     "data": {
      "text/plain": [
       "['test.json',\n",
       " 'arabic_test.jsonl',\n",
       " 'arabic_val.jsonl',\n",
       " 'validation.json',\n",
       " 'arabic_train.jsonl',\n",
       " 'train.json']"
      ]
     },
     "execution_count": 16,
     "metadata": {},
     "output_type": "execute_result"
    }
   ],
   "source": [
    "train_file = os.path.join(data, \"train.json\")\n",
    "validation_file = os.path.join(data, \"validation.json\")\n",
    "test_file = os.path.join(data, \"test.json\")\n",
    "\n",
    "train_set.to_json(train_file, orient=\"records\")\n",
    "validation_set.to_json(validation_file, orient=\"records\")\n",
    "test_set.to_json(test_file, orient=\"records\")\n",
    "\n",
    "os.listdir(data)"
   ]
  },
  {
   "cell_type": "markdown",
   "source": [
    "## Build & Train the Tokenizer\n",
    "Combined the data for training and build a Byte Pair Encoding `BPE` tokenizer, as described in the BART paper.\n",
    "\n",
    "Details:\n",
    "- vocabulary size: `49,152`\n",
    "- type: `Byte Level`\n",
    "- language: `Arabic`\n"
   ],
   "metadata": {
    "id": "A8CqgflVDp2Z"
   },
   "id": "A8CqgflVDp2Z"
  },
  {
   "cell_type": "code",
   "execution_count": null,
   "id": "8041b915-25ed-4156-bb0e-ab4d1e106055",
   "metadata": {
    "id": "8041b915-25ed-4156-bb0e-ab4d1e106055",
    "outputId": "e05c144f-08d5-4209-f009-2677f2eac81b"
   },
   "outputs": [
    {
     "data": {
      "text/plain": [
       "['test.json',\n",
       " 'texts.txt',\n",
       " 'arabic_test.jsonl',\n",
       " 'arabic_val.jsonl',\n",
       " 'validation.json',\n",
       " 'arabic_train.jsonl',\n",
       " 'train.json']"
      ]
     },
     "execution_count": 17,
     "metadata": {},
     "output_type": "execute_result"
    }
   ],
   "source": [
    "def extract_text(file_path):\n",
    "    with open(file_path, \"r\", encoding=\"utf-8\") as file:\n",
    "        data = json.load(file)\n",
    "\n",
    "    return [record[\"text\"] for record in data]\n",
    "\n",
    "\n",
    "train_texts = extract_text(train_file)\n",
    "validation_texts = extract_text(validation_file)\n",
    "test_texts = extract_text(test_file)\n",
    "\n",
    "all_texts = train_texts + validation_texts + test_texts\n",
    "texts_file = os.path.join(data, \"texts.txt\")\n",
    "\n",
    "with open(texts_file, \"w\", encoding=\"utf-8\") as file:\n",
    "    for text in all_texts:\n",
    "        file.write(text + \"\\n\")\n",
    "\n",
    "os.listdir(data)"
   ]
  },
  {
   "cell_type": "code",
   "execution_count": null,
   "id": "d00c1a5d-5afd-432a-a042-589a9ea2e02b",
   "metadata": {
    "id": "d00c1a5d-5afd-432a-a042-589a9ea2e02b"
   },
   "outputs": [],
   "source": [
    "files=[texts_file]\n",
    "vocab_size = 768 * 64\n",
    "special_tokens = [\"<s>\", \"<pad>\", \"</s>\", \"<unk>\", \"<mask>\"]\n",
    "\n",
    "tokenizer = ByteLevelBPETokenizer()\n",
    "tokenizer.train(files=files, vocab_size=vocab_size, special_tokens=special_tokens)\n",
    "\n",
    "single = \"<s> $A </s>\"\n",
    "pair = \"<s> $A </s> <s> $B </s>\"\n",
    "special_tokens = [(\"<s>\", tokenizer.token_to_id(\"<s>\")), (\"</s>\", tokenizer.token_to_id(\"</s>\"))]\n",
    "\n",
    "tokenizer.post_processor = TemplateProcessing(single=single, pair=pair, special_tokens=special_tokens)\n",
    "tokenizer.enable_padding(pad_id=tokenizer.token_to_id(\"<pad>\"), pad_token=\"<pad>\")\n",
    "tokenizer.enable_truncation(max_length=768)\n",
    "\n",
    "tokenizer_file = \"tokenizer/\"\n",
    "os.makedirs(tokenizer_file, exist_ok=True)\n",
    "tokenizer_file = os.path.join(tokenizer_file, \"tokenizer.json\")\n",
    "\n",
    "tokenizer.save(tokenizer_file)"
   ]
  },
  {
   "cell_type": "markdown",
   "source": [
    "### Test the Tokenizer\n",
    "Ensure that our tokenizer works as expected."
   ],
   "metadata": {
    "id": "JhrNhFCqGOmM"
   },
   "id": "JhrNhFCqGOmM"
  },
  {
   "cell_type": "code",
   "execution_count": null,
   "id": "6ac961fd-4507-4aed-8929-dec0ddcd44e9",
   "metadata": {
    "id": "6ac961fd-4507-4aed-8929-dec0ddcd44e9",
    "outputId": "d113aa51-4410-45cc-eec5-f4b50c4919ec"
   },
   "outputs": [
    {
     "name": "stdout",
     "output_type": "stream",
     "text": [
      "Encoded Tokens: ['<s>', 'Ø¨ÙĬ', 'Ø·ÙĦØ¹', 'ĠØ¹Ø¨', 'Ø§ÙĦÙĬ', 'ĠØ£Ø±Ø¬Ø¹', 'ĠØ£ÙĨØ§', 'ĠÙĪ', 'ÙĬØ§Ùĥ', 'ĠØ¥ÙĨØª', 'ĠØŃÙĦ', 'Ø§ÙĦÙĬ', 'ĠØ£Ø±Ø¬Ø¹', 'ĠØ£ÙĨØ§', 'ĠÙĪ', 'ÙĬØ§Ùĥ', 'ĠØ£ÙĨØ§', 'ĠÙĪØ¥', 'ÙĨØª', 'ØĮ', 'ĠÙħÙĦØ§', 'ĠØ¥ÙĨØª', '</s>']\n",
      "\n",
      "Token IDs: [0, 538, 2788, 1684, 567, 40222, 4337, 280, 14999, 16726, 1801, 567, 40222, 4337, 280, 14999, 4337, 877, 564, 295, 22782, 16726, 2]\n",
      "\n",
      "Decoded Text: بيطلع عبالي أرجع أنا وياك إنت حلالي أرجع أنا وياك أنا وإنت، ملا إنت\n",
      "\n"
     ]
    }
   ],
   "source": [
    "text = [\"بيطلع عبالي أرجع أنا وياك إنت حلالي أرجع أنا وياك أنا وإنت، ملا إنت\"]\n",
    "\n",
    "encoded = tokenizer.encode_batch(text)\n",
    "decoded = [tokenizer.decode(encoding.ids) for encoding in encoded]\n",
    "\n",
    "for index, encoding in enumerate(encoded):\n",
    "    print(f\"Encoded Tokens: {encoding.tokens}\\n\")\n",
    "    print(f\"Token IDs: {encoding.ids}\\n\")\n",
    "    print(f\"Decoded Text: {decoded[index]}\\n\")"
   ]
  },
  {
   "cell_type": "markdown",
   "source": [
    "## Reduce the Sequence Length\n",
    "\n",
    "Minimize the number of words in the source sequences for computational efficiency. Since most sequences have 750 words or fewer, I will set the maximum length to 768 (inclusive)."
   ],
   "metadata": {
    "id": "CfvkyToDEBOY"
   },
   "id": "CfvkyToDEBOY"
  },
  {
   "cell_type": "code",
   "execution_count": null,
   "id": "d62f5dc3-90df-4cf5-9681-7f55f0cbace3",
   "metadata": {
    "id": "d62f5dc3-90df-4cf5-9681-7f55f0cbace3",
    "outputId": "39da4102-c9c1-4cf5-e46a-ab5dabeed7c6"
   },
   "outputs": [
    {
     "data": {
      "text/plain": [
       "(32473, 2)"
      ]
     },
     "execution_count": 23,
     "metadata": {},
     "output_type": "execute_result"
    }
   ],
   "source": [
    "train_set = train_set[train_set[\"text_length\"] <= 768]\n",
    "\n",
    "train_set.drop(columns=[\"text_length\", \"summary_length\"], inplace=True)\n",
    "\n",
    "train_set.shape"
   ]
  },
  {
   "cell_type": "code",
   "execution_count": null,
   "id": "4ad14db7-4d3c-4c40-9e71-adaa1d19ea1a",
   "metadata": {
    "id": "4ad14db7-4d3c-4c40-9e71-adaa1d19ea1a",
    "outputId": "99c5326b-987a-4a7f-f05d-79b37c47c55a"
   },
   "outputs": [
    {
     "data": {
      "text/html": [
       "<div>\n",
       "<style scoped>\n",
       "    .dataframe tbody tr th:only-of-type {\n",
       "        vertical-align: middle;\n",
       "    }\n",
       "\n",
       "    .dataframe tbody tr th {\n",
       "        vertical-align: top;\n",
       "    }\n",
       "\n",
       "    .dataframe thead th {\n",
       "        text-align: right;\n",
       "    }\n",
       "</style>\n",
       "<table border=\"1\" class=\"dataframe\">\n",
       "  <thead>\n",
       "    <tr style=\"text-align: right;\">\n",
       "      <th></th>\n",
       "      <th>summary</th>\n",
       "      <th>text</th>\n",
       "    </tr>\n",
       "  </thead>\n",
       "  <tbody>\n",
       "    <tr>\n",
       "      <th>0</th>\n",
       "      <td>بدأت القوات الأوكرانية الانسحاب من شبه جزيرة ا...</td>\n",
       "      <td>وكان الرئيس الأوكراني المؤقت، الكسندر تورتشينو...</td>\n",
       "    </tr>\n",
       "    <tr>\n",
       "      <th>1</th>\n",
       "      <td>\"هل سيتم تغيير العبارة الشهيرة للمؤرخ اليوناني...</td>\n",
       "      <td>بحلول عام 2050 ستحتاج مصر إلى 21 مليار متر مكع...</td>\n",
       "    </tr>\n",
       "    <tr>\n",
       "      <th>2</th>\n",
       "      <td>قالت الشرطة في القطاع الهندي من إقليم كشمير إن...</td>\n",
       "      <td>وذكرت وكالة الأنباء المحلية (جي.إن.إس) أن جماع...</td>\n",
       "    </tr>\n",
       "    <tr>\n",
       "      <th>4</th>\n",
       "      <td>أكد مصدر في \"الحراك التهامي\" لأبناء محافظة الح...</td>\n",
       "      <td>مسلح حوثي في إب وقال المصدر إن المسلحين الحوثي...</td>\n",
       "    </tr>\n",
       "    <tr>\n",
       "      <th>8</th>\n",
       "      <td>افادت مصادر حركة حماس أن كتائب القسام، الجناح ...</td>\n",
       "      <td>وكانت اذاعة الجيش الاسرائيلي افادت بمقتل ثلاثة...</td>\n",
       "    </tr>\n",
       "  </tbody>\n",
       "</table>\n",
       "</div>"
      ],
      "text/plain": [
       "                                             summary  \\\n",
       "0  بدأت القوات الأوكرانية الانسحاب من شبه جزيرة ا...   \n",
       "1  \"هل سيتم تغيير العبارة الشهيرة للمؤرخ اليوناني...   \n",
       "2  قالت الشرطة في القطاع الهندي من إقليم كشمير إن...   \n",
       "4  أكد مصدر في \"الحراك التهامي\" لأبناء محافظة الح...   \n",
       "8  افادت مصادر حركة حماس أن كتائب القسام، الجناح ...   \n",
       "\n",
       "                                                text  \n",
       "0  وكان الرئيس الأوكراني المؤقت، الكسندر تورتشينو...  \n",
       "1  بحلول عام 2050 ستحتاج مصر إلى 21 مليار متر مكع...  \n",
       "2  وذكرت وكالة الأنباء المحلية (جي.إن.إس) أن جماع...  \n",
       "4  مسلح حوثي في إب وقال المصدر إن المسلحين الحوثي...  \n",
       "8  وكانت اذاعة الجيش الاسرائيلي افادت بمقتل ثلاثة...  "
      ]
     },
     "execution_count": 24,
     "metadata": {},
     "output_type": "execute_result"
    }
   ],
   "source": [
    "train_set.head()"
   ]
  },
  {
   "cell_type": "code",
   "execution_count": null,
   "id": "e8f8bcda-b3f6-4da0-b206-735f84d3d986",
   "metadata": {
    "id": "e8f8bcda-b3f6-4da0-b206-735f84d3d986",
    "outputId": "22ca364e-33fc-458f-959d-d96bc20b5410"
   },
   "outputs": [
    {
     "data": {
      "text/html": [
       "<div>\n",
       "<style scoped>\n",
       "    .dataframe tbody tr th:only-of-type {\n",
       "        vertical-align: middle;\n",
       "    }\n",
       "\n",
       "    .dataframe tbody tr th {\n",
       "        vertical-align: top;\n",
       "    }\n",
       "\n",
       "    .dataframe thead th {\n",
       "        text-align: right;\n",
       "    }\n",
       "</style>\n",
       "<table border=\"1\" class=\"dataframe\">\n",
       "  <thead>\n",
       "    <tr style=\"text-align: right;\">\n",
       "      <th></th>\n",
       "      <th>summary</th>\n",
       "      <th>text</th>\n",
       "    </tr>\n",
       "  </thead>\n",
       "  <tbody>\n",
       "    <tr>\n",
       "      <th>37512</th>\n",
       "      <td>\"ثلاثون عاما من الألم\"</td>\n",
       "      <td>أظهر العديد من مشجعي ليفربول خلال مباراة فريقه...</td>\n",
       "    </tr>\n",
       "    <tr>\n",
       "      <th>37513</th>\n",
       "      <td>لماذا التشكيك؟</td>\n",
       "      <td>مع بدء عمليات التلقيح البعض يتخوفون من بعض الل...</td>\n",
       "    </tr>\n",
       "    <tr>\n",
       "      <th>37515</th>\n",
       "      <td>بي بي سي ترند تقرير مي نعمان</td>\n",
       "      <td>بينما احتدمت أزمة احتجاز الرهائن على يد لاجئ إ...</td>\n",
       "    </tr>\n",
       "    <tr>\n",
       "      <th>37516</th>\n",
       "      <td>تداعيات متواصلة</td>\n",
       "      <td>رمضان آخر يستقبله المسلمون في ظل كورونا للعام ...</td>\n",
       "    </tr>\n",
       "    <tr>\n",
       "      <th>37517</th>\n",
       "      <td>حملة شامتة</td>\n",
       "      <td>بعض الأصوات المؤيدة للنظم العربية استغلت اقتحا...</td>\n",
       "    </tr>\n",
       "  </tbody>\n",
       "</table>\n",
       "</div>"
      ],
      "text/plain": [
       "                            summary  \\\n",
       "37512        \"ثلاثون عاما من الألم\"   \n",
       "37513                لماذا التشكيك؟   \n",
       "37515  بي بي سي ترند تقرير مي نعمان   \n",
       "37516               تداعيات متواصلة   \n",
       "37517                    حملة شامتة   \n",
       "\n",
       "                                                    text  \n",
       "37512  أظهر العديد من مشجعي ليفربول خلال مباراة فريقه...  \n",
       "37513  مع بدء عمليات التلقيح البعض يتخوفون من بعض الل...  \n",
       "37515  بينما احتدمت أزمة احتجاز الرهائن على يد لاجئ إ...  \n",
       "37516  رمضان آخر يستقبله المسلمون في ظل كورونا للعام ...  \n",
       "37517  بعض الأصوات المؤيدة للنظم العربية استغلت اقتحا...  "
      ]
     },
     "execution_count": 25,
     "metadata": {},
     "output_type": "execute_result"
    }
   ],
   "source": [
    "train_set.tail()"
   ]
  },
  {
   "cell_type": "code",
   "execution_count": null,
   "id": "c6c1df1a-7199-4b11-abd3-98bd70f244d6",
   "metadata": {
    "id": "c6c1df1a-7199-4b11-abd3-98bd70f244d6",
    "outputId": "e839a12b-72c9-42c1-b6a1-3c93a909ec5f"
   },
   "outputs": [
    {
     "data": {
      "text/plain": [
       "['test.json', 'validation.json', 'train.json']"
      ]
     },
     "execution_count": 26,
     "metadata": {},
     "output_type": "execute_result"
    }
   ],
   "source": [
    "cleaned_data = \"cleaned_data/\"\n",
    "os.makedirs(cleaned_data, exist_ok=True)\n",
    "\n",
    "train_file = os.path.join(cleaned_data, \"train.json\")\n",
    "validation_file = os.path.join(cleaned_data, \"validation.json\")\n",
    "test_file = os.path.join(cleaned_data, \"test.json\")\n",
    "\n",
    "train_set.to_json(train_file, orient=\"records\")\n",
    "validation_set.to_json(validation_file, orient=\"records\")\n",
    "test_set.to_json(test_file, orient=\"records\")\n",
    "\n",
    "os.listdir(cleaned_data)"
   ]
  },
  {
   "cell_type": "markdown",
   "source": [
    "## Tokenize & Dataload\n",
    "Tokenize the sequences into tensors of ids for the model (model inputs), which will use them to map to embeddings."
   ],
   "metadata": {
    "id": "KtuIfioxEMmu"
   },
   "id": "KtuIfioxEMmu"
  },
  {
   "cell_type": "code",
   "execution_count": null,
   "id": "4f92f0fa-513d-45b7-b61a-9b9ad5bbd303",
   "metadata": {
    "id": "4f92f0fa-513d-45b7-b61a-9b9ad5bbd303"
   },
   "outputs": [],
   "source": [
    "tokenizer_file = \"tokenizer/tokenizer.json\""
   ]
  },
  {
   "cell_type": "code",
   "execution_count": null,
   "id": "243bba22-727d-4b54-b5f0-b3a78cbb0ef3",
   "metadata": {
    "id": "243bba22-727d-4b54-b5f0-b3a78cbb0ef3"
   },
   "outputs": [],
   "source": [
    "train_file = os.path.join(\"cleaned_data/\", \"train.json\")\n",
    "validation_file = os.path.join(\"cleaned_data/\", \"validation.json\")\n",
    "test_file = os.path.join(\"cleaned_data/\", \"test.json\")"
   ]
  },
  {
   "cell_type": "code",
   "execution_count": null,
   "id": "5d8c04f4-4626-4483-a776-74797facc887",
   "metadata": {
    "id": "5d8c04f4-4626-4483-a776-74797facc887"
   },
   "outputs": [],
   "source": [
    "tokenizer = Tokenizer.from_file(tokenizer_file)"
   ]
  },
  {
   "cell_type": "code",
   "execution_count": null,
   "id": "c2ae0c42-c6a5-4492-9c11-0b37d8b78175",
   "metadata": {
    "id": "c2ae0c42-c6a5-4492-9c11-0b37d8b78175",
    "outputId": "87919a6d-d63f-45c5-d33f-29a1e040a6ee"
   },
   "outputs": [
    {
     "data": {
      "text/plain": [
       "(Dataset({\n",
       "     features: ['summary', 'text'],\n",
       "     num_rows: 32473\n",
       " }),\n",
       " Dataset({\n",
       "     features: ['summary', 'text'],\n",
       "     num_rows: 4689\n",
       " }),\n",
       " Dataset({\n",
       "     features: ['summary', 'text'],\n",
       "     num_rows: 4689\n",
       " }))"
      ]
     },
     "execution_count": 5,
     "metadata": {},
     "output_type": "execute_result"
    }
   ],
   "source": [
    "train_set = pd.read_json(train_file)\n",
    "validation_set = pd.read_json(validation_file)\n",
    "test_set = pd.read_json(test_file)\n",
    "\n",
    "train_set = train_set.reset_index(drop=True)\n",
    "validation_set = validation_set.reset_index(drop=True)\n",
    "test_set = test_set.reset_index(drop=True)\n",
    "\n",
    "train = Dataset.from_pandas(train_set)\n",
    "validation = Dataset.from_pandas(validation_set)\n",
    "test = Dataset.from_pandas(test_set)\n",
    "\n",
    "train, validation, test"
   ]
  },
  {
   "cell_type": "markdown",
   "source": [
    "### Batch the Datasets\n",
    "\n",
    "Batch the dataset into batches of tensors."
   ],
   "metadata": {
    "id": "8bHS8KQIEuBj"
   },
   "id": "8bHS8KQIEuBj"
  },
  {
   "cell_type": "code",
   "execution_count": null,
   "id": "178f605f-f77f-47d7-92e7-94d36e868cc7",
   "metadata": {
    "id": "178f605f-f77f-47d7-92e7-94d36e868cc7"
   },
   "outputs": [],
   "source": [
    "def collator(batch):\n",
    "    source = [sample[\"text\"] for sample in batch]\n",
    "    target = [sample[\"summary\"] for sample in batch]\n",
    "\n",
    "    source_encodings = tokenizer.encode_batch(source)\n",
    "    target_encodings = tokenizer.encode_batch(target)\n",
    "\n",
    "    source_input_ids = [torch.tensor(encoding.ids) for encoding in source_encodings]\n",
    "    target_input_ids = [torch.tensor(encoding.ids) for encoding in target_encodings]\n",
    "\n",
    "    max_length = max(max(len(ids) for ids in source_input_ids), max(len(ids) for ids in target_input_ids))\n",
    "\n",
    "    source_input_ids_padded = [torch.nn.functional.pad(ids, (0, max_length - len(ids)), value=tokenizer.token_to_id(\"<pad>\")) for ids in source_input_ids]\n",
    "    target_input_ids_padded = [torch.nn.functional.pad(ids, (0, max_length - len(ids)), value=tokenizer.token_to_id(\"<pad>\")) for ids in target_input_ids]\n",
    "\n",
    "    source_input_ids_tensor = torch.stack(source_input_ids_padded)\n",
    "    target_input_ids_tensor = torch.stack(target_input_ids_padded)\n",
    "\n",
    "    return source_input_ids_tensor, target_input_ids_tensor\n",
    "\n",
    "\n",
    "train_loader = DataLoader(dataset=train, batch_size=16, collate_fn=collator, shuffle=True, pin_memory=True)\n",
    "validation_loader = DataLoader(dataset=validation, batch_size=16, collate_fn=collator, pin_memory=True)"
   ]
  },
  {
   "cell_type": "markdown",
   "source": [
    "### Test the Dataloader\n",
    "\n",
    "Ensure that our dataloaders works as expected."
   ],
   "metadata": {
    "id": "tPJjQvALGIPm"
   },
   "id": "tPJjQvALGIPm"
  },
  {
   "cell_type": "code",
   "execution_count": null,
   "id": "b8c8457a-2cc9-41a5-8b4d-816f6906eea6",
   "metadata": {
    "id": "b8c8457a-2cc9-41a5-8b4d-816f6906eea6",
    "outputId": "333ec044-015e-408f-c84b-cb52de7ade63"
   },
   "outputs": [
    {
     "name": "stdout",
     "output_type": "stream",
     "text": [
      "Largest length in the batch: 582\n",
      "Source batch length: [582, 582, 582, 582, 582, 582, 582, 582, 582, 582, 582, 582, 582, 582, 582, 582]\n",
      "Target batch length: [582, 582, 582, 582, 582, 582, 582, 582, 582, 582, 582, 582, 582, 582, 582, 582]\n",
      "Padding token counts in source batch: [176, 122, 372, 357, 324, 179, 345, 0, 272, 460, 264, 379, 13, 5, 198, 342]\n",
      "Padding token counts in target batch: [561, 547, 556, 542, 548, 565, 562, 539, 553, 534, 550, 551, 546, 566, 561, 554]\n"
     ]
    }
   ],
   "source": [
    "for batch in train_loader:\n",
    "    source_batch, target_batch = batch\n",
    "\n",
    "    source_pad_counts = [(ids == tokenizer.token_to_id(\"<pad>\")).sum().item() for ids in source_batch]\n",
    "    target_pad_counts = [(ids == tokenizer.token_to_id(\"<pad>\")).sum().item() for ids in target_batch]\n",
    "\n",
    "    source_lengths = [len(ids) for ids in source_batch]\n",
    "    target_lengths = [len(ids) for ids in target_batch]\n",
    "\n",
    "    print(\"Largest length in the batch:\", max(source_lengths))\n",
    "    print(\"Source batch length:\", source_lengths)\n",
    "    print(\"Target batch length:\", target_lengths)\n",
    "    print(\"Padding token counts in source batch:\", source_pad_counts)\n",
    "    print(\"Padding token counts in target batch:\", target_pad_counts)\n",
    "\n",
    "    break"
   ]
  },
  {
   "cell_type": "markdown",
   "source": [
    "## BART Architecture\n",
    "\n",
    "Input Embedding `->` Positional Encoding `->` Dropout `->`\n",
    "\n",
    "**Encoder**:\n",
    "\n",
    "Multi Head Attention `->` Dropout `->` Add & Norm `->`\n",
    "\n",
    "Feed Forward `->` Dropout `->` Add & Norm\n",
    "\n",
    "<br>\n",
    "\n",
    "Output Embedding `->` Positional Encoding `->` Dropout `->`\n",
    "\n",
    "**Decoder**:\n",
    "\n",
    "Masked Multi Head Attention `->` Dropout `->` Add & Norm `->`\n",
    "\n",
    "Cross Multi Head Attention `->` Dropout `->` Add & Norm `->`\n",
    "\n",
    "Feed Forward `->` Dropout `->` Add & Norm\n"
   ],
   "metadata": {
    "id": "bu32Zmh3GSy_"
   },
   "id": "bu32Zmh3GSy_"
  },
  {
   "cell_type": "markdown",
   "source": [
    "### Emdedding Layer\n",
    "Transform each token into a numerical representation that captures its semantic meaning (token to vector)."
   ],
   "metadata": {
    "id": "nULc3kyhGZJf"
   },
   "id": "nULc3kyhGZJf"
  },
  {
   "cell_type": "code",
   "execution_count": null,
   "id": "4f0a1119-c599-4105-b09f-2f078ef39346",
   "metadata": {
    "id": "4f0a1119-c599-4105-b09f-2f078ef39346"
   },
   "outputs": [],
   "source": [
    "class Embedding(nn.Module):\n",
    "  def __init__(self, vocab_size: int, d_model: int):\n",
    "    super().__init__()\n",
    "\n",
    "    self.embedding = nn.Embedding(vocab_size, d_model)\n",
    "\n",
    "\n",
    "  def forward(self, sequence: Tensor):\n",
    "    return self.embedding(sequence)"
   ]
  },
  {
   "cell_type": "markdown",
   "source": [
    "### Positional Encoding Layer\n",
    "Transform token embeddings into position aware representations by adding positional encodings that indicate each token's position in the sequence."
   ],
   "metadata": {
    "id": "4JF1dIh1GelX"
   },
   "id": "4JF1dIh1GelX"
  },
  {
   "cell_type": "code",
   "execution_count": null,
   "id": "855eb083-3f3c-4b1c-b863-83466a57843f",
   "metadata": {
    "id": "855eb083-3f3c-4b1c-b863-83466a57843f"
   },
   "outputs": [],
   "source": [
    "class PositionalEncoding(nn.Module):\n",
    "  def __init__(self, max_sequence_length: int, d_model: int):\n",
    "    super().__init__()\n",
    "\n",
    "    pe = torch.zeros(max_sequence_length, d_model)\n",
    "    pos = torch.arange(0, max_sequence_length, dtype=torch.float).unsqueeze(1)\n",
    "\n",
    "    _2i = torch.arange(0, d_model, 2, dtype=torch.float)\n",
    "\n",
    "    pe[:, 0::2] = torch.sin(pos / 10000**(_2i / d_model))\n",
    "    pe[:, 1::2] = torch.cos(pos / 10000**(_2i / d_model))\n",
    "\n",
    "    self.register_buffer(\"pe\", pe.unsqueeze(0))\n",
    "\n",
    "\n",
    "  def forward(self, embedding: Tensor):\n",
    "    return embedding + self.pe[:, :embedding.shape[1]]"
   ]
  },
  {
   "cell_type": "markdown",
   "source": [
    "### Multi Head Self-Attention Layer\n",
    "Transform token embeddings (semantic meaning) into contextual representations (contextualizing the embeddings) so that each token will acquire meaning according to its role in the sequence."
   ],
   "metadata": {
    "id": "UeyTSVN8GoJK"
   },
   "id": "UeyTSVN8GoJK"
  },
  {
   "cell_type": "code",
   "execution_count": null,
   "id": "cb4f12cb-e105-4d77-be59-7ffd37e982ad",
   "metadata": {
    "id": "cb4f12cb-e105-4d77-be59-7ffd37e982ad"
   },
   "outputs": [],
   "source": [
    "class MultiHeadAttention(nn.Module):\n",
    "  def __init__(self, d_model: int, h: int):\n",
    "    super().__init__()\n",
    "\n",
    "    self.d_model = d_model\n",
    "    self.h = h\n",
    "    self.d_k = d_model // h\n",
    "\n",
    "    self.W_q = nn.Linear(d_model, d_model)\n",
    "    self.W_k = nn.Linear(d_model, d_model)\n",
    "    self.W_v = nn.Linear(d_model, d_model)\n",
    "    self.W_o = nn.Linear(d_model, d_model)\n",
    "\n",
    "\n",
    "  def split(self, matrix: Tensor):\n",
    "    batch_size, sequence_length, d_model = matrix.shape\n",
    "\n",
    "    return matrix.view(batch_size, sequence_length, self.h, self.d_k).transpose(1, 2)\n",
    "\n",
    "\n",
    "  def concat(self, matrix: Tensor):\n",
    "    batch_size, h, sequence_length, d_k = matrix.shape\n",
    "\n",
    "    return matrix.transpose(1, 2).contiguous().view(batch_size, sequence_length, h * d_k)\n",
    "\n",
    "\n",
    "  def attention(self, Q: Tensor, K: Tensor, V: Tensor, mask):\n",
    "    scaled_scores = torch.matmul(Q, K.transpose(-1, -2)) / math.sqrt(self.d_k)\n",
    "\n",
    "    if mask is not None:\n",
    "        scaled_scores = scaled_scores.masked_fill(mask == 0, 1e-9)\n",
    "\n",
    "    weights = torch.softmax(scaled_scores, dim=-1)\n",
    "\n",
    "    return torch.matmul(weights, V)\n",
    "\n",
    "\n",
    "  def forward(self, Q: Tensor, K: Tensor, V: Tensor, mask=None):\n",
    "    Q = self.split(self.W_q(Q))\n",
    "    K = self.split(self.W_k(K))\n",
    "    V = self.split(self.W_v(V))\n",
    "\n",
    "    head = self.attention(Q, K, V, mask)\n",
    "\n",
    "    multi_head = self.concat(head)\n",
    "\n",
    "    return self.W_o(multi_head)"
   ]
  },
  {
   "cell_type": "markdown",
   "source": [
    "### Position-Wise Feed Forward Networks\n",
    "\n",
    "Apply feed forward to each token's contextual representation, enabling independent transformations that enhance feature learning."
   ],
   "metadata": {
    "id": "KwA22JIXGvfC"
   },
   "id": "KwA22JIXGvfC"
  },
  {
   "cell_type": "code",
   "execution_count": null,
   "id": "83db03d0-74d5-4f29-b18a-78171e8ba391",
   "metadata": {
    "id": "83db03d0-74d5-4f29-b18a-78171e8ba391"
   },
   "outputs": [],
   "source": [
    "class PositionWiseFeedForward(nn.Module):\n",
    "  def __init__(self, d_model: int, d_ff: int):\n",
    "    super().__init__()\n",
    "\n",
    "    self.fc1 = nn.Linear(d_model, d_ff)\n",
    "    self.fc2 = nn.Linear(d_ff, d_model)\n",
    "    self.act = nn.GELU()\n",
    "\n",
    "\n",
    "  def forward(self, contextual_embedding: Tensor):\n",
    "    return self.fc2(self.act(self.fc1(contextual_embedding)))"
   ]
  },
  {
   "cell_type": "markdown",
   "source": [
    "### Dropout Layer\n",
    "Prevent overfitting and enhance model generalization."
   ],
   "metadata": {
    "id": "59_bZIsNG1G7"
   },
   "id": "59_bZIsNG1G7"
  },
  {
   "cell_type": "code",
   "execution_count": null,
   "id": "c19ce614-0161-40ab-bf1c-67c70455bf13",
   "metadata": {
    "id": "c19ce614-0161-40ab-bf1c-67c70455bf13"
   },
   "outputs": [],
   "source": [
    "class Dropout(nn.Module):\n",
    "  def __init__(self, dropout: float):\n",
    "    super().__init__()\n",
    "\n",
    "    self.dropout = nn.Dropout(dropout)\n",
    "\n",
    "\n",
    "  def forward(self, sublayer: Tensor):\n",
    "    return self.dropout(sublayer)"
   ]
  },
  {
   "cell_type": "markdown",
   "source": [
    "### Normalization Layer\n",
    "Standardize the inputs by scaling and shifting to improve training stability and convergence speed."
   ],
   "metadata": {
    "id": "jZvPBBYjG36Q"
   },
   "id": "jZvPBBYjG36Q"
  },
  {
   "cell_type": "code",
   "execution_count": null,
   "id": "7d86a356-ac90-4878-abc3-86ae2c04530c",
   "metadata": {
    "id": "7d86a356-ac90-4878-abc3-86ae2c04530c"
   },
   "outputs": [],
   "source": [
    "class Normalization(nn.Module):\n",
    "  def __init__(self, d_model: int):\n",
    "    super().__init__()\n",
    "\n",
    "    self.norm = nn.LayerNorm(d_model)\n",
    "\n",
    "\n",
    "  def forward(self, residual_sum: Tensor):\n",
    "    return self.norm(residual_sum)"
   ]
  },
  {
   "cell_type": "markdown",
   "source": [
    "### Encoder Block\n",
    "Consists of multi-head attention, feed forward networks, dropout, skip connections (ResNet), and normalization layers."
   ],
   "metadata": {
    "id": "ZmtENgaoG8ia"
   },
   "id": "ZmtENgaoG8ia"
  },
  {
   "cell_type": "code",
   "execution_count": null,
   "id": "6d2880ed-19e5-46cd-a85b-a49e29add323",
   "metadata": {
    "id": "6d2880ed-19e5-46cd-a85b-a49e29add323"
   },
   "outputs": [],
   "source": [
    "class Encoder(nn.Module):\n",
    "  def __init__(self, d_model: int, h: int, d_ff: int, dropout: float):\n",
    "    super().__init__()\n",
    "\n",
    "    self.self_attention = MultiHeadAttention(d_model, h)\n",
    "    self.feed_forward = PositionWiseFeedForward(d_model, d_ff)\n",
    "    self.dropout = Dropout(dropout)\n",
    "    self.norm = Normalization(d_model)\n",
    "\n",
    "\n",
    "  def forward(self, embedding):\n",
    "    contextual_embedding = self.self_attention(embedding, embedding, embedding)\n",
    "    contextual_embedding = self.dropout(contextual_embedding)\n",
    "    contextual_embedding = self.norm(embedding + contextual_embedding)\n",
    "\n",
    "    return self.norm(contextual_embedding + self.dropout(self.feed_forward(contextual_embedding)))"
   ]
  },
  {
   "cell_type": "markdown",
   "source": [
    "### Decoder Block\n",
    "Consists of masked multi-head attention, multi-head attention over encoder outputs (cross attention), feed forward networks, dropout, skip connections (ResNet), and normalization layers."
   ],
   "metadata": {
    "id": "2QsTZKSYG_Ue"
   },
   "id": "2QsTZKSYG_Ue"
  },
  {
   "cell_type": "code",
   "execution_count": null,
   "id": "2b7f1019-7e65-42c8-8a72-e5a70cbf5e9e",
   "metadata": {
    "id": "2b7f1019-7e65-42c8-8a72-e5a70cbf5e9e"
   },
   "outputs": [],
   "source": [
    "class Decoder(nn.Module):\n",
    "  def __init__(self, d_model: int, h: int, d_ff: int, dropout: float):\n",
    "    super().__init__()\n",
    "\n",
    "    self.self_attention = MultiHeadAttention(d_model, h)\n",
    "    self.cross_attention = MultiHeadAttention(d_model, h)\n",
    "    self.feed_forward = PositionWiseFeedForward(d_model, d_ff)\n",
    "    self.dropout = Dropout(dropout)\n",
    "    self.norm = Normalization(d_model)\n",
    "\n",
    "\n",
    "  def forward(self, embedding, encoder_output, encoder_mask, decoder_mask):\n",
    "    contextual_embedding = self.self_attention(embedding, embedding, embedding, decoder_mask)\n",
    "    contextual_embedding = self.dropout(contextual_embedding)\n",
    "    contextual_embedding = self.norm(embedding + contextual_embedding)\n",
    "\n",
    "    cross_contextual_embedding = self.cross_attention(contextual_embedding, encoder_output, encoder_output, encoder_mask)\n",
    "    cross_contextual_embedding = self.dropout(cross_contextual_embedding)\n",
    "    cross_contextual_embedding = self.norm(contextual_embedding + cross_contextual_embedding)\n",
    "\n",
    "    return self.norm(cross_contextual_embedding + self.dropout(self.feed_forward(cross_contextual_embedding)))"
   ]
  },
  {
   "cell_type": "markdown",
   "source": [
    "### Transformer (All Parts Together)\n",
    "Integrates embeddings, positional encoding, and dropout with stacked encoder and decoder blocks."
   ],
   "metadata": {
    "id": "D8nPNEpCHDMi"
   },
   "id": "D8nPNEpCHDMi"
  },
  {
   "cell_type": "code",
   "execution_count": null,
   "id": "b0d034be-0f3f-479f-af96-f540abf97078",
   "metadata": {
    "id": "b0d034be-0f3f-479f-af96-f540abf97078"
   },
   "outputs": [],
   "source": [
    "class ArabBart(nn.Module):\n",
    "  def __init__(self, pad_idx: int, vocab_size: int, d_model: int, max_sequence_length: int, dropout: float, d_ff: int, h: int, n: int):\n",
    "    super().__init__()\n",
    "\n",
    "    self.pad_idx = pad_idx\n",
    "\n",
    "    self.embedding = Embedding(vocab_size, d_model)\n",
    "    self.pe = PositionalEncoding(max_sequence_length, d_model)\n",
    "    self.dropout = Dropout(dropout)\n",
    "\n",
    "    self.encoders = nn.ModuleList([Encoder(d_model, h, d_ff, dropout) for _ in range(n)])\n",
    "    self.decoders = nn.ModuleList([Decoder(d_model, h, d_ff, dropout) for _ in range(n)])\n",
    "\n",
    "    self.pre_softmax = nn.Linear(d_model, vocab_size)\n",
    "\n",
    "\n",
    "  def masking(self, source_sequence: Tensor, target_sequence: Tensor):\n",
    "    device = source_sequence.device\n",
    "\n",
    "    source_mask = (source_sequence != self.pad_idx).unsqueeze(1).unsqueeze(2).to(device)\n",
    "    target_mask = (target_sequence != self.pad_idx).unsqueeze(1).unsqueeze(3).to(device)\n",
    "\n",
    "    sequence_length = target_sequence.shape[1]\n",
    "    ones = torch.ones(sequence_length, sequence_length, device=device)\n",
    "\n",
    "    future_mask = torch.tril(ones, diagonal=0).bool()\n",
    "    target_mask = target_mask & future_mask\n",
    "\n",
    "    return source_mask, target_mask\n",
    "\n",
    "\n",
    "  def forward(self, source_sequence: Tensor, target_sequence: Tensor):\n",
    "    input_embedding = self.dropout(self.pe(self.embedding(source_sequence)))\n",
    "    output_embedding = self.dropout(self.pe(self.embedding(target_sequence)))\n",
    "\n",
    "    encoder_mask, decoder_mask = self.masking(source_sequence, target_sequence)\n",
    "\n",
    "    encoder_embedding = input_embedding\n",
    "    decoder_embedding = output_embedding\n",
    "\n",
    "    for encoder in self.encoders:\n",
    "       encoder_embedding = encoder(encoder_embedding)\n",
    "\n",
    "    for decoder in self.decoders:\n",
    "       decoder_embedding = decoder(decoder_embedding, encoder_embedding, encoder_mask, decoder_mask)\n",
    "\n",
    "    return self.pre_softmax(decoder_embedding)"
   ]
  },
  {
   "cell_type": "markdown",
   "source": [
    "## Configurations and Hyperparameters\n",
    "\n",
    "**Model**:\n",
    "\n",
    "d_model (embedding size): `768`\n",
    "\n",
    "d_ff (hidden size): `3072`\n",
    "\n",
    "number of heads (h): `12`\n",
    "\n",
    "number of layers (n): `6`\n",
    "\n",
    "dropout (regularization): `0.1`\n",
    "\n",
    "max sequence length (positional encoding): `768`\n",
    "\n",
    "pad token: `1`\n",
    "\n",
    "vocab size: `49,152`\n",
    "\n",
    "device: `cuda (1 x L4OS)`\n",
    "\n",
    "**Loss**:\n",
    "\n",
    "type: `label smoothed cross entropy loss`\n",
    "\n",
    "**Optimizer**:\n",
    "\n",
    "learning rate: `0.000001 (1e-6)`\n",
    "\n",
    "beta 0: `0.9`\n",
    "\n",
    "beta 1: `0.98`\n",
    "\n",
    "epsilon: `0.000000001 (1e-9)`\n"
   ],
   "metadata": {
    "id": "u4ElXlZiHevl"
   },
   "id": "u4ElXlZiHevl"
  },
  {
   "cell_type": "code",
   "execution_count": null,
   "id": "60fe2e3f-a835-4a80-84d4-fc0dca10d951",
   "metadata": {
    "id": "60fe2e3f-a835-4a80-84d4-fc0dca10d951",
    "outputId": "2bbd162e-5c3e-467c-f687-3f226709f1bb"
   },
   "outputs": [
    {
     "data": {
      "text/plain": [
       "ArabBart(\n",
       "  (embedding): Embedding(\n",
       "    (embedding): Embedding(49152, 768)\n",
       "  )\n",
       "  (pe): PositionalEncoding()\n",
       "  (dropout): Dropout(\n",
       "    (dropout): Dropout(p=0.1, inplace=False)\n",
       "  )\n",
       "  (encoders): ModuleList(\n",
       "    (0-5): 6 x Encoder(\n",
       "      (self_attention): MultiHeadAttention(\n",
       "        (W_q): Linear(in_features=768, out_features=768, bias=True)\n",
       "        (W_k): Linear(in_features=768, out_features=768, bias=True)\n",
       "        (W_v): Linear(in_features=768, out_features=768, bias=True)\n",
       "        (W_o): Linear(in_features=768, out_features=768, bias=True)\n",
       "      )\n",
       "      (feed_forward): PositionWiseFeedForward(\n",
       "        (fc1): Linear(in_features=768, out_features=3072, bias=True)\n",
       "        (fc2): Linear(in_features=3072, out_features=768, bias=True)\n",
       "        (act): GELU(approximate='none')\n",
       "      )\n",
       "      (dropout): Dropout(\n",
       "        (dropout): Dropout(p=0.1, inplace=False)\n",
       "      )\n",
       "      (norm): Normalization(\n",
       "        (norm): LayerNorm((768,), eps=1e-05, elementwise_affine=True)\n",
       "      )\n",
       "    )\n",
       "  )\n",
       "  (decoders): ModuleList(\n",
       "    (0-5): 6 x Decoder(\n",
       "      (self_attention): MultiHeadAttention(\n",
       "        (W_q): Linear(in_features=768, out_features=768, bias=True)\n",
       "        (W_k): Linear(in_features=768, out_features=768, bias=True)\n",
       "        (W_v): Linear(in_features=768, out_features=768, bias=True)\n",
       "        (W_o): Linear(in_features=768, out_features=768, bias=True)\n",
       "      )\n",
       "      (cross_attention): MultiHeadAttention(\n",
       "        (W_q): Linear(in_features=768, out_features=768, bias=True)\n",
       "        (W_k): Linear(in_features=768, out_features=768, bias=True)\n",
       "        (W_v): Linear(in_features=768, out_features=768, bias=True)\n",
       "        (W_o): Linear(in_features=768, out_features=768, bias=True)\n",
       "      )\n",
       "      (feed_forward): PositionWiseFeedForward(\n",
       "        (fc1): Linear(in_features=768, out_features=3072, bias=True)\n",
       "        (fc2): Linear(in_features=3072, out_features=768, bias=True)\n",
       "        (act): GELU(approximate='none')\n",
       "      )\n",
       "      (dropout): Dropout(\n",
       "        (dropout): Dropout(p=0.1, inplace=False)\n",
       "      )\n",
       "      (norm): Normalization(\n",
       "        (norm): LayerNorm((768,), eps=1e-05, elementwise_affine=True)\n",
       "      )\n",
       "    )\n",
       "  )\n",
       "  (pre_softmax): Linear(in_features=768, out_features=49152, bias=True)\n",
       ")"
      ]
     },
     "execution_count": 18,
     "metadata": {},
     "output_type": "execute_result"
    }
   ],
   "source": [
    "pad_idx = tokenizer.token_to_id(\"<pad>\")\n",
    "vocab_size = tokenizer.get_vocab_size()\n",
    "\n",
    "device = torch.device(\"cuda\" if torch.cuda.is_available() else \"cpu\")\n",
    "\n",
    "bart = ArabBart(pad_idx=pad_idx, vocab_size=vocab_size, d_model=768, max_sequence_length=768, dropout=0.1, d_ff=3072, h=12, n=6).to(device)\n",
    "\n",
    "criterion = nn.CrossEntropyLoss(ignore_index=pad_idx, label_smoothing=0.1)\n",
    "optimizer = Adam(bart.parameters(), lr=1e-6, betas=(0.9, 0.98), eps=1e-9)\n",
    "\n",
    "bart"
   ]
  },
  {
   "cell_type": "markdown",
   "source": [
    "## Setup Trainer\n",
    "Prepare the train function for training stage."
   ],
   "metadata": {
    "id": "V07NWMIFH1pa"
   },
   "id": "V07NWMIFH1pa"
  },
  {
   "cell_type": "code",
   "execution_count": null,
   "id": "42007523-4bea-4769-98f9-a6aecb00bd39",
   "metadata": {
    "id": "42007523-4bea-4769-98f9-a6aecb00bd39"
   },
   "outputs": [],
   "source": [
    "def train(model, criterion, optimizer, train_loader, device, clip_value):\n",
    "    model.train()\n",
    "\n",
    "    total_loss = 0\n",
    "    scaler = GradScaler()\n",
    "\n",
    "    for source_input_ids, target_input_ids in train_loader:\n",
    "        source_input_ids, target_input_ids = source_input_ids.to(device), target_input_ids.to(device)\n",
    "\n",
    "        optimizer.zero_grad()\n",
    "\n",
    "        with autocast():\n",
    "            output = model(source_input_ids, target_input_ids[:, :-1])\n",
    "\n",
    "            loss = criterion(output.view(-1, output.size(-1)), target_input_ids[:, 1:].reshape(-1))\n",
    "\n",
    "        scaler.scale(loss).backward()\n",
    "        clip_grad_norm_(model.parameters(), clip_value)\n",
    "        scaler.step(optimizer)\n",
    "        scaler.update()\n",
    "\n",
    "        total_loss += loss.item()\n",
    "\n",
    "    return total_loss / len(train_loader)"
   ]
  },
  {
   "cell_type": "markdown",
   "source": [
    "## Setup Evaluator\n",
    "Prepare the evaluation function for the evaluation stage, similar to the training function but with some important adjustments."
   ],
   "metadata": {
    "id": "ZvWsCCtcH48S"
   },
   "id": "ZvWsCCtcH48S"
  },
  {
   "cell_type": "code",
   "execution_count": null,
   "id": "39be17cc-bbc5-43da-84f8-79b3a60ca104",
   "metadata": {
    "id": "39be17cc-bbc5-43da-84f8-79b3a60ca104"
   },
   "outputs": [],
   "source": [
    "def evaluate(model, criterion, validation_loader, device):\n",
    "    model.eval()\n",
    "\n",
    "    total_loss = 0\n",
    "\n",
    "    with torch.no_grad():\n",
    "        for source_input_ids, target_input_ids in validation_loader:\n",
    "            source_input_ids, target_input_ids = source_input_ids.to(device), target_input_ids.to(device)\n",
    "\n",
    "            output = model(source_input_ids, target_input_ids[:, :-1])\n",
    "\n",
    "            loss = criterion(output.view(-1, output.size(-1)), target_input_ids[:, 1:].reshape(-1))\n",
    "\n",
    "            total_loss += loss.item()\n",
    "\n",
    "    return total_loss / len(validation_loader)"
   ]
  },
  {
   "cell_type": "markdown",
   "source": [
    "## Start Training & Evaluating\n",
    "Execute the training and evaluation loops, recording the results for each epoch.\n"
   ],
   "metadata": {
    "id": "HFT5WqEdICK2"
   },
   "id": "HFT5WqEdICK2"
  },
  {
   "cell_type": "code",
   "execution_count": null,
   "id": "4d7d38c2-11ab-4798-8ef3-3da24a6ff918",
   "metadata": {
    "id": "4d7d38c2-11ab-4798-8ef3-3da24a6ff918",
    "outputId": "4be79536-b13d-4448-ab7c-a657a7312be2"
   },
   "outputs": [
    {
     "name": "stdout",
     "output_type": "stream",
     "text": [
      "{'Epoch': 1, 'Loss(train)': 10.003258495612684, 'Loss(validation)': 9.725820372704746, 'Epoch Time (hours)': 0.23}\n",
      "{'Epoch': 2, 'Loss(train)': 9.616397437203695, 'Loss(validation)': 9.44553768715891, 'Epoch Time (hours)': 0.22}\n",
      "{'Epoch': 3, 'Loss(train)': 9.362677955627442, 'Loss(validation)': 9.222394797266746, 'Epoch Time (hours)': 0.22}\n",
      "{'Epoch': 4, 'Loss(train)': 9.164095487265751, 'Loss(validation)': 9.054170621495668, 'Epoch Time (hours)': 0.22}\n",
      "{'Epoch': 5, 'Loss(train)': 9.013892841808902, 'Loss(validation)': 8.928206524881375, 'Epoch Time (hours)': 0.22}\n",
      "Total training time: 1.1 hours\n"
     ]
    }
   ],
   "source": [
    "epochs = 5\n",
    "results = []\n",
    "\n",
    "start_time = time.time()\n",
    "for epoch in range(epochs):\n",
    "    epoch_start_time = time.time()\n",
    "\n",
    "    train_loss = train(bart, criterion, optimizer, train_loader, device, clip_value=1.0)\n",
    "    validation_loss = evaluate(bart, criterion, validation_loader, device)\n",
    "\n",
    "    epoch_time = (time.time() - epoch_start_time) / 3600\n",
    "\n",
    "    results.append({\"Epoch\": epoch + 1, \"Loss(train)\": train_loss, \"Loss(validation)\": validation_loss, \"Epoch Time (hours)\": round(epoch_time, 2)})\n",
    "\n",
    "    print(results[epoch])\n",
    "total_time = (time.time() - start_time) / 3600\n",
    "\n",
    "print(f\"Total training time: {round(total_time, 2)} hours\")\n",
    "\n",
    "results_df = pd.DataFrame(results)\n",
    "results_df[\"Training Time (hours)\"] = round(total_time, 2)\n",
    "results_df[\"Device\"] = \"1xL4OS\"\n",
    "\n",
    "results_df.to_csv(\"results.csv\", index=False)"
   ]
  },
  {
   "cell_type": "code",
   "execution_count": null,
   "id": "f27725b2-514c-4e50-ae30-6ecbcd6d3254",
   "metadata": {
    "id": "f27725b2-514c-4e50-ae30-6ecbcd6d3254",
    "outputId": "d6004641-79b5-4c78-f6c4-78b513e7459a"
   },
   "outputs": [
    {
     "data": {
      "text/html": [
       "<style type=\"text/css\">\n",
       "</style>\n",
       "<table id=\"T_b509e\">\n",
       "  <thead>\n",
       "    <tr>\n",
       "      <th id=\"T_b509e_level0_col0\" class=\"col_heading level0 col0\" >Epoch</th>\n",
       "      <th id=\"T_b509e_level0_col1\" class=\"col_heading level0 col1\" >Loss(train)</th>\n",
       "      <th id=\"T_b509e_level0_col2\" class=\"col_heading level0 col2\" >Loss(validation)</th>\n",
       "      <th id=\"T_b509e_level0_col3\" class=\"col_heading level0 col3\" >Epoch Time (hours)</th>\n",
       "      <th id=\"T_b509e_level0_col4\" class=\"col_heading level0 col4\" >Training Time (hours)</th>\n",
       "      <th id=\"T_b509e_level0_col5\" class=\"col_heading level0 col5\" >Device</th>\n",
       "    </tr>\n",
       "  </thead>\n",
       "  <tbody>\n",
       "    <tr>\n",
       "      <td id=\"T_b509e_row0_col0\" class=\"data row0 col0\" >1</td>\n",
       "      <td id=\"T_b509e_row0_col1\" class=\"data row0 col1\" >10.003258</td>\n",
       "      <td id=\"T_b509e_row0_col2\" class=\"data row0 col2\" >9.725820</td>\n",
       "      <td id=\"T_b509e_row0_col3\" class=\"data row0 col3\" >0.230000</td>\n",
       "      <td id=\"T_b509e_row0_col4\" class=\"data row0 col4\" >1.100000</td>\n",
       "      <td id=\"T_b509e_row0_col5\" class=\"data row0 col5\" >1xL4OS</td>\n",
       "    </tr>\n",
       "    <tr>\n",
       "      <td id=\"T_b509e_row1_col0\" class=\"data row1 col0\" >2</td>\n",
       "      <td id=\"T_b509e_row1_col1\" class=\"data row1 col1\" >9.616397</td>\n",
       "      <td id=\"T_b509e_row1_col2\" class=\"data row1 col2\" >9.445538</td>\n",
       "      <td id=\"T_b509e_row1_col3\" class=\"data row1 col3\" >0.220000</td>\n",
       "      <td id=\"T_b509e_row1_col4\" class=\"data row1 col4\" >1.100000</td>\n",
       "      <td id=\"T_b509e_row1_col5\" class=\"data row1 col5\" >1xL4OS</td>\n",
       "    </tr>\n",
       "    <tr>\n",
       "      <td id=\"T_b509e_row2_col0\" class=\"data row2 col0\" >3</td>\n",
       "      <td id=\"T_b509e_row2_col1\" class=\"data row2 col1\" >9.362678</td>\n",
       "      <td id=\"T_b509e_row2_col2\" class=\"data row2 col2\" >9.222395</td>\n",
       "      <td id=\"T_b509e_row2_col3\" class=\"data row2 col3\" >0.220000</td>\n",
       "      <td id=\"T_b509e_row2_col4\" class=\"data row2 col4\" >1.100000</td>\n",
       "      <td id=\"T_b509e_row2_col5\" class=\"data row2 col5\" >1xL4OS</td>\n",
       "    </tr>\n",
       "    <tr>\n",
       "      <td id=\"T_b509e_row3_col0\" class=\"data row3 col0\" >4</td>\n",
       "      <td id=\"T_b509e_row3_col1\" class=\"data row3 col1\" >9.164095</td>\n",
       "      <td id=\"T_b509e_row3_col2\" class=\"data row3 col2\" >9.054171</td>\n",
       "      <td id=\"T_b509e_row3_col3\" class=\"data row3 col3\" >0.220000</td>\n",
       "      <td id=\"T_b509e_row3_col4\" class=\"data row3 col4\" >1.100000</td>\n",
       "      <td id=\"T_b509e_row3_col5\" class=\"data row3 col5\" >1xL4OS</td>\n",
       "    </tr>\n",
       "    <tr>\n",
       "      <td id=\"T_b509e_row4_col0\" class=\"data row4 col0\" >5</td>\n",
       "      <td id=\"T_b509e_row4_col1\" class=\"data row4 col1\" >9.013893</td>\n",
       "      <td id=\"T_b509e_row4_col2\" class=\"data row4 col2\" >8.928207</td>\n",
       "      <td id=\"T_b509e_row4_col3\" class=\"data row4 col3\" >0.220000</td>\n",
       "      <td id=\"T_b509e_row4_col4\" class=\"data row4 col4\" >1.100000</td>\n",
       "      <td id=\"T_b509e_row4_col5\" class=\"data row4 col5\" >1xL4OS</td>\n",
       "    </tr>\n",
       "  </tbody>\n",
       "</table>\n"
      ],
      "text/plain": [
       "<pandas.io.formats.style.Styler at 0x7f9f9926f250>"
      ]
     },
     "execution_count": 22,
     "metadata": {},
     "output_type": "execute_result"
    }
   ],
   "source": [
    "results_df.style.hide(axis=\"index\")"
   ]
  },
  {
   "cell_type": "markdown",
   "source": [
    "## Save & Load the Model\n",
    "Save the model as a `.pt` file with a filename that reflects the parameter count in millions."
   ],
   "metadata": {
    "id": "ZqquVVMRIPHS"
   },
   "id": "ZqquVVMRIPHS"
  },
  {
   "cell_type": "code",
   "execution_count": null,
   "id": "30fe65f6-fbcd-4ed0-9290-705c8a81daa9",
   "metadata": {
    "id": "30fe65f6-fbcd-4ed0-9290-705c8a81daa9",
    "outputId": "f4e8c5c3-a601-4b08-ef5c-ffdf9fdfd8f6"
   },
   "outputs": [
    {
     "name": "stdout",
     "output_type": "stream",
     "text": [
      "Model saved to models/ArabBart_174M.pt\n"
     ]
    }
   ],
   "source": [
    "def save_model(model, path):\n",
    "    num_params = sum(p.numel() for p in model.parameters()) / 1e6\n",
    "    model_name = f\"ArabBart_{int(num_params)}M.pt\"\n",
    "    model_path = os.path.join(path, model_name)\n",
    "\n",
    "    torch.save(model.state_dict(), model_path)\n",
    "    print(f\"Model saved to {model_path}\")\n",
    "\n",
    "path = \"models/\"\n",
    "os.makedirs(path, exist_ok=True)\n",
    "save_model(bart, path)"
   ]
  },
  {
   "cell_type": "code",
   "execution_count": null,
   "id": "53c59547-e152-4f45-9e66-013e0d7633fb",
   "metadata": {
    "id": "53c59547-e152-4f45-9e66-013e0d7633fb"
   },
   "outputs": [],
   "source": [
    "def load_model(model, model_path):\n",
    "    model.load_state_dict(torch.load(model_path))\n",
    "    model.eval()\n",
    "\n",
    "    return model\n",
    "\n",
    "pad_idx = tokenizer.token_to_id(\"<pad>\")\n",
    "vocab_size = tokenizer.get_vocab_size()\n",
    "\n",
    "model_path = \"models/ArabBart_174M.pt\"\n",
    "device = torch.device(\"cuda\" if torch.cuda.is_available() else \"cpu\")\n",
    "\n",
    "bart = ArabBart(pad_idx=pad_idx, vocab_size=vocab_size, d_model=768, max_sequence_length=768, dropout=0.1, d_ff=3072, h=12, n=6).to(device)\n",
    "model = load_model(bart, model_path)"
   ]
  },
  {
   "cell_type": "markdown",
   "source": [
    "## Inference the Model\n",
    "Test the model by generating a summary from the input text."
   ],
   "metadata": {
    "id": "1hXK8YsRIVQi"
   },
   "id": "1hXK8YsRIVQi"
  },
  {
   "cell_type": "code",
   "execution_count": null,
   "id": "2536e219-868e-4cb3-9eab-fa2ce06ab790",
   "metadata": {
    "id": "2536e219-868e-4cb3-9eab-fa2ce06ab790",
    "outputId": "c05d6c8f-39df-4d2c-8b37-dcefe513b275"
   },
   "outputs": [
    {
     "name": "stdout",
     "output_type": "stream",
     "text": [
      "طول النص المدخل: 206\n",
      "\n",
      "طول الملخص المتوقع: 12\n",
      "\n",
      "طول الملخص الحقيقي: 36\n",
      "\n"
     ]
    }
   ],
   "source": [
    "def summarize(model, tokenizer, text, device, max_summarization_length):\n",
    "    model.eval()\n",
    "\n",
    "    encoded = tokenizer.encode(text)\n",
    "    input_ids = torch.tensor([encoded.ids]).to(device)\n",
    "\n",
    "    target_ids = torch.tensor([[tokenizer.token_to_id(\"<s>\")]]).to(device)\n",
    "\n",
    "    with torch.no_grad():\n",
    "        for _ in range(max_summarization_length):\n",
    "            outputs = model(input_ids, target_ids)\n",
    "            prediction_ids = outputs.argmax(dim=-1).cpu().numpy()[0]\n",
    "            next_token = prediction_ids[-1].item()\n",
    "\n",
    "            target_ids = torch.cat([target_ids, torch.tensor([[next_token]]).to(device)], dim=-1)\n",
    "\n",
    "            if next_token == tokenizer.token_to_id(\"</s>\"):\n",
    "                break\n",
    "\n",
    "    summary = tokenizer.decode(target_ids[0].tolist(), skip_special_tokens=True)\n",
    "    return summary\n",
    "\n",
    "text = test[\"text\"][0]\n",
    "max_summarization_length = 60\n",
    "\n",
    "summary = summarize(model=bart, tokenizer=tokenizer, text=text, device=device, max_summarization_length=max_summarization_length)\n",
    "\n",
    "print(f\"طول النص المدخل: {len(text.split())}\\n\")\n",
    "print(f\"طول الملخص المتوقع: {len(summary.split())}\\n\")\n",
    "print(f\"طول الملخص الحقيقي: {len(test['summary'][0].split())}\\n\")"
   ]
  },
  {
   "cell_type": "code",
   "execution_count": null,
   "id": "e3ea8ba9-20e0-402f-8dc1-ee731cb6483d",
   "metadata": {
    "id": "e3ea8ba9-20e0-402f-8dc1-ee731cb6483d"
   },
   "outputs": [],
   "source": []
  }
 ],
 "metadata": {
  "kernelspec": {
   "display_name": "Python 3",
   "language": "python",
   "name": "python3"
  },
  "language_info": {
   "codemirror_mode": {
    "name": "ipython",
    "version": 3
   },
   "file_extension": ".py",
   "mimetype": "text/x-python",
   "name": "python",
   "nbconvert_exporter": "python",
   "pygments_lexer": "ipython3",
   "version": "3.10.10"
  },
  "colab": {
   "provenance": []
  }
 },
 "nbformat": 4,
 "nbformat_minor": 5
}
